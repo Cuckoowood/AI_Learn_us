{
 "cells": [
  {
   "cell_type": "code",
   "execution_count": null,
   "metadata": {},
   "outputs": [],
   "source": [
    "import numpy as np\n",
    "import matplotlib.pyplot as plt\n",
    "np.__version__"
   ]
  },
  {
   "cell_type": "markdown",
   "metadata": {},
   "source": [
    "# Chapter 1 -- Numpy 基础\n",
    "\n",
    "华东师范大学 数学科学学院 陈久宁 2019年9月25日"
   ]
  },
  {
   "cell_type": "markdown",
   "metadata": {},
   "source": [
    "参考材料：\n",
    "\n",
    "* [快速入门教程](https://numpy.org/doc/1.17/user/quickstart.html)\n",
    "* [针对Matlab用户的说明](https://numpy.org/doc/1.17/user/numpy-for-matlab-users.html)"
   ]
  },
  {
   "cell_type": "markdown",
   "metadata": {},
   "source": [
    "## 1. 矩阵创建\n",
    "\n",
    "* `array`\n",
    "* `zeros`, `zeros_like`\n",
    "* `ones`, `ones_like`\n",
    "* `empty`, `empty_like`\n",
    "* `full`, `full_like`\n",
    "* `fromfunction`\n",
    "* `arange`, `linspace`, `geomspace`\n",
    "* `random.rand`, `random.randn`"
   ]
  },
  {
   "cell_type": "markdown",
   "metadata": {},
   "source": [
    "### 1.1. 构造函数"
   ]
  },
  {
   "cell_type": "code",
   "execution_count": null,
   "metadata": {},
   "outputs": [],
   "source": [
    "x = np.array([1, 2, 3]) #1行3列数组\n",
    "x"
   ]
  },
  {
   "cell_type": "code",
   "execution_count": null,
   "metadata": {},
   "outputs": [],
   "source": [
    "x.shape # 数组的形状"
   ]
  },
  {
   "cell_type": "code",
   "execution_count": null,
   "metadata": {},
   "outputs": [],
   "source": [
    "x.size # 数组的元素个数"
   ]
  },
  {
   "cell_type": "code",
   "execution_count": null,
   "metadata": {},
   "outputs": [],
   "source": [
    "x.dtype # 数组的数据类型"
   ]
  },
  {
   "cell_type": "code",
   "execution_count": null,
   "metadata": {},
   "outputs": [],
   "source": [
    "x.ndim # 数组的维数"
   ]
  },
  {
   "cell_type": "code",
   "execution_count": null,
   "metadata": {},
   "outputs": [],
   "source": [
    "x = np.array([ # 2行3列数组\n",
    "    [1, 2, 3],\n",
    "    [4, 5, 6]\n",
    "])\n",
    "x"
   ]
  },
  {
   "cell_type": "code",
   "execution_count": null,
   "metadata": {},
   "outputs": [],
   "source": [
    "x.shape # 数组的形状"
   ]
  },
  {
   "cell_type": "code",
   "execution_count": null,
   "metadata": {},
   "outputs": [],
   "source": [
    "x.size # 数组的形状"
   ]
  },
  {
   "cell_type": "code",
   "execution_count": null,
   "metadata": {},
   "outputs": [],
   "source": [
    "len(x) # x.shape[0]"
   ]
  },
  {
   "cell_type": "code",
   "execution_count": null,
   "metadata": {},
   "outputs": [],
   "source": [
    "x.ndim # 数组的维数"
   ]
  },
  {
   "cell_type": "markdown",
   "metadata": {},
   "source": [
    "## 1.2. 利用常用方法构造数组\n",
    "\n",
    "> 在Python中一般用tuple作为size/shape"
   ]
  },
  {
   "cell_type": "markdown",
   "metadata": {},
   "source": [
    "创建全0数组\n",
    "\n",
    "```python\n",
    "np.zeros(shape, dtype=float, order='C')\n",
    "```\n",
    "\n",
    "* shape: 数组形状\n",
    "* dtype: data type，元素的数据类型\n",
    "* order: 元素在内存中的存储顺序（逐行或逐列存储）-- ⚠️ 高级话题"
   ]
  },
  {
   "cell_type": "code",
   "execution_count": null,
   "metadata": {},
   "outputs": [],
   "source": [
    "np.zeros((2, 3)) # 2行3列"
   ]
  },
  {
   "cell_type": "code",
   "execution_count": null,
   "metadata": {},
   "outputs": [],
   "source": [
    "np.zeros((2, 3), dtype=int)"
   ]
  },
  {
   "cell_type": "markdown",
   "metadata": {},
   "source": [
    "创建全1数组\n",
    "\n",
    "```python\n",
    "np.ones(shape, dtype=float, order='C')\n",
    "```"
   ]
  },
  {
   "cell_type": "code",
   "execution_count": null,
   "metadata": {},
   "outputs": [],
   "source": [
    "np.ones((2, 3)) # 2行3列"
   ]
  },
  {
   "cell_type": "code",
   "execution_count": null,
   "metadata": {},
   "outputs": [],
   "source": [
    "np.ones((2, 3), dtype=int)"
   ]
  },
  {
   "cell_type": "markdown",
   "metadata": {},
   "source": [
    "创建一个用特定值初始化的数组\n",
    "\n",
    "```python\n",
    "np.full(shape, fill_value, dtype=None, order='C')\n",
    "```"
   ]
  },
  {
   "cell_type": "code",
   "execution_count": null,
   "metadata": {},
   "outputs": [],
   "source": [
    "np.full((2, 3), 4) # 2行3列，用4进行初始化"
   ]
  },
  {
   "cell_type": "markdown",
   "metadata": {},
   "source": [
    "`full(shape, fill_value)` 与 `fill_value * ones(shape)` 的差异：\n",
    "\n",
    "* 前者直接在内存中进行初始化\n",
    "* 后者通过矩阵运算进行初始化\n",
    "\n",
    "⚠️ 性能建议：\n",
    "\n",
    "* ✅ `zeros(shape)` vs ❌`1. * ones(shape)`\n",
    "* ✅ `full(shape, fill_value)` vs ❌ `fill_value * ones(shape)`"
   ]
  },
  {
   "cell_type": "code",
   "execution_count": null,
   "metadata": {},
   "outputs": [],
   "source": [
    "# Performance Benchmark\n",
    "\n",
    "# ~2x speed-up\n",
    "%timeit np.zeros((5000, 500)) # :)\n",
    "%timeit 1. * np.ones((5000, 500)) # :(\n",
    "\n",
    "# ~2x speed-up\n",
    "%timeit np.full((5000, 500), 3.) # :)\n",
    "%timeit 3. * np.ones((5000, 500)) # :("
   ]
  },
  {
   "cell_type": "markdown",
   "metadata": {},
   "source": [
    "创建一个不进行初始化的数组\n",
    "\n",
    "```python\n",
    "empty(shape, dtype=float, order='C')\n",
    "```"
   ]
  },
  {
   "cell_type": "code",
   "execution_count": null,
   "metadata": {},
   "outputs": [],
   "source": [
    "np.empty((2, 3)) # 2行3列，不进行初始化"
   ]
  },
  {
   "cell_type": "markdown",
   "metadata": {},
   "source": [
    "通过函数来初始化矩阵\n",
    "\n",
    "```python\n",
    "np.fromfunction(function, shape, **kwargs)\n",
    "```\n",
    "\n",
    "以二维数组为例：\n",
    "\n",
    "1. 首先通过构造一个下标数组\n",
    "2. 然后对于每一对下标`(i, j)`, 调用`function(i,j)`"
   ]
  },
  {
   "cell_type": "code",
   "execution_count": null,
   "metadata": {},
   "outputs": [],
   "source": [
    "def foo(x, y):\n",
    "    return 10*x + y\n",
    "\n",
    "np.fromfunction(foo, (3, 3))"
   ]
  },
  {
   "cell_type": "code",
   "execution_count": null,
   "metadata": {},
   "outputs": [],
   "source": [
    "def foo(x, y, z):\n",
    "    return 100*x + 10*y + z\n",
    "np.fromfunction(foo, (3, 3, 3))"
   ]
  },
  {
   "cell_type": "code",
   "execution_count": null,
   "metadata": {},
   "outputs": [],
   "source": [
    "np.fromfunction(lambda x,y : x==y, (3, 3))"
   ]
  },
  {
   "cell_type": "markdown",
   "metadata": {},
   "source": [
    "以range的方式创建数组\n",
    "\n",
    "```python\n",
    "np.arange([start,] stop[, step,], dtype=None)\n",
    "```\n",
    "\n",
    "* arange <--> array range\n",
    "* `[]`表示该参数可选\n",
    "* 通过`?np.arange`即可查到详细的使用文档"
   ]
  },
  {
   "cell_type": "code",
   "execution_count": null,
   "metadata": {},
   "outputs": [],
   "source": [
    "# np.arange(stop)\n",
    "np.arange(10) # 从0到9"
   ]
  },
  {
   "cell_type": "code",
   "execution_count": null,
   "metadata": {},
   "outputs": [],
   "source": [
    "# np.arange(start, stop)\n",
    "np.arange(4, 10) # 从4到9"
   ]
  },
  {
   "cell_type": "code",
   "execution_count": null,
   "metadata": {},
   "outputs": [],
   "source": [
    "# np.arange(start, stop, step)\n",
    "np.arange(4, 10, 2) # 从4到9，间隔为2"
   ]
  },
  {
   "cell_type": "markdown",
   "metadata": {},
   "source": [
    "等间距生成矩阵\n",
    "```python\n",
    "np.linspace(start,\n",
    "    stop,\n",
    "    num=50,\n",
    "    endpoint=True,\n",
    "    retstep=False,\n",
    "    dtype=None,\n",
    "    axis=0,\n",
    ")\n",
    "```"
   ]
  },
  {
   "cell_type": "code",
   "execution_count": null,
   "metadata": {},
   "outputs": [],
   "source": [
    "np.linspace(0, 1, num=5) # 包含最后一个值"
   ]
  },
  {
   "cell_type": "code",
   "execution_count": null,
   "metadata": {},
   "outputs": [],
   "source": [
    "np.geomspace(1, 10, num=5) # 对数间隔生成"
   ]
  },
  {
   "cell_type": "code",
   "execution_count": null,
   "metadata": {},
   "outputs": [],
   "source": [
    "np.logspace(0, 1, num=5) # 对数间隔生成"
   ]
  },
  {
   "cell_type": "code",
   "execution_count": null,
   "metadata": {},
   "outputs": [],
   "source": [
    "# np.logspace等价于以下形式\n",
    "np.geomspace(10**0, 10**1, num=5) # a**b := a^b"
   ]
  },
  {
   "cell_type": "markdown",
   "metadata": {},
   "source": [
    "##### 随机数"
   ]
  },
  {
   "cell_type": "code",
   "execution_count": null,
   "metadata": {},
   "outputs": [],
   "source": [
    "np.random.randn(3) # 1行3列高斯随机数"
   ]
  },
  {
   "cell_type": "code",
   "execution_count": null,
   "metadata": {},
   "outputs": [],
   "source": [
    "np.random.randn(3, 3) # 3行3列高斯随机数"
   ]
  },
  {
   "cell_type": "code",
   "execution_count": null,
   "metadata": {},
   "outputs": [],
   "source": [
    "np.random.randint(10, size=(2, 3)) # 2行3列的0-9之间的数"
   ]
  },
  {
   "cell_type": "code",
   "execution_count": null,
   "metadata": {},
   "outputs": [],
   "source": [
    "np.random.randint(5, 10, size=(2, 3)) # 2行3列的5-9之间的数"
   ]
  },
  {
   "cell_type": "markdown",
   "metadata": {},
   "source": [
    "## 2. 矩阵基本运算"
   ]
  },
  {
   "cell_type": "markdown",
   "metadata": {},
   "source": [
    "### 2.1. 基本算术运算"
   ]
  },
  {
   "cell_type": "code",
   "execution_count": null,
   "metadata": {},
   "outputs": [],
   "source": [
    "x = np.arange(1, 5).reshape(2, 2)\n",
    "y = np.arange(9, 5, -1).reshape(2, 2)\n",
    "print(\"x is:\")\n",
    "print(x)\n",
    "print(\"y is:\")\n",
    "print(y)"
   ]
  },
  {
   "cell_type": "code",
   "execution_count": null,
   "metadata": {},
   "outputs": [],
   "source": [
    "x + y # 加"
   ]
  },
  {
   "cell_type": "code",
   "execution_count": null,
   "metadata": {},
   "outputs": [],
   "source": [
    "x - y # 减"
   ]
  },
  {
   "cell_type": "markdown",
   "metadata": {},
   "source": [
    "逐元素乘法 (element-wise product)"
   ]
  },
  {
   "cell_type": "code",
   "execution_count": null,
   "metadata": {},
   "outputs": [],
   "source": [
    "x * y # 逐元素乘法"
   ]
  },
  {
   "cell_type": "markdown",
   "metadata": {},
   "source": [
    "逐元素幂"
   ]
  },
  {
   "cell_type": "code",
   "execution_count": null,
   "metadata": {},
   "outputs": [],
   "source": [
    "x ** y # 逐元素幂"
   ]
  },
  {
   "cell_type": "markdown",
   "metadata": {},
   "source": [
    "逐元素除法"
   ]
  },
  {
   "cell_type": "code",
   "execution_count": null,
   "metadata": {},
   "outputs": [],
   "source": [
    "y / x # 逐元素除法"
   ]
  },
  {
   "cell_type": "code",
   "execution_count": null,
   "metadata": {},
   "outputs": [],
   "source": [
    "y // x # 逐元素截断除法"
   ]
  },
  {
   "cell_type": "code",
   "execution_count": null,
   "metadata": {},
   "outputs": [],
   "source": [
    "x @ y # 矩阵乘法"
   ]
  },
  {
   "cell_type": "code",
   "execution_count": null,
   "metadata": {},
   "outputs": [],
   "source": [
    "# Python 3.5 之前采用 x.dot(y)\n",
    "x.dot(y)"
   ]
  },
  {
   "cell_type": "markdown",
   "metadata": {},
   "source": [
    "大部分一元运算都可以写成方法的形式，例如："
   ]
  },
  {
   "cell_type": "code",
   "execution_count": null,
   "metadata": {},
   "outputs": [],
   "source": [
    "assert x.sum() == np.sum(x)\n",
    "assert x.prod() == np.prod(x)\n",
    "assert x.mean() == np.mean(x)\n",
    "assert x.max() == np.max(x)\n",
    "assert x.min() == np.min(x)"
   ]
  },
  {
   "cell_type": "markdown",
   "metadata": {},
   "source": [
    "### 2.2 尺寸变化"
   ]
  },
  {
   "cell_type": "markdown",
   "metadata": {},
   "source": [
    "矩阵转置\n",
    "\n",
    "```python\n",
    "np.transpose(a, axes=None)\n",
    "```\n",
    "\n",
    "维度变换规则：(recall: 代数里的变换)\n",
    "```\n",
    "(0,  1,  2,  3,  4 )\n",
    "(x0, x1, x2, x3, x4)\n",
    "```"
   ]
  },
  {
   "cell_type": "code",
   "execution_count": null,
   "metadata": {},
   "outputs": [],
   "source": [
    "x = np.arange(24).reshape(1, 2, 3, 4)\n",
    "x.shape"
   ]
  },
  {
   "cell_type": "code",
   "execution_count": null,
   "metadata": {},
   "outputs": [],
   "source": [
    "y = x.transpose(1, 2, 3, 0)\n",
    "y.shape"
   ]
  },
  {
   "cell_type": "code",
   "execution_count": null,
   "metadata": {},
   "outputs": [],
   "source": [
    "z = y.transpose(3, 0, 1, 2)\n",
    "z.shape"
   ]
  },
  {
   "cell_type": "code",
   "execution_count": null,
   "metadata": {},
   "outputs": [],
   "source": [
    "np.all(z == x)"
   ]
  },
  {
   "cell_type": "markdown",
   "metadata": {},
   "source": [
    "调整尺寸\n",
    "\n",
    "```python\n",
    "np.reshape(a, newshape, order='C')\n",
    "```"
   ]
  },
  {
   "cell_type": "code",
   "execution_count": null,
   "metadata": {},
   "outputs": [],
   "source": [
    "x = np.arange(16)\n",
    "x"
   ]
  },
  {
   "cell_type": "code",
   "execution_count": null,
   "metadata": {},
   "outputs": [],
   "source": [
    "x.reshape(4, 4)"
   ]
  },
  {
   "cell_type": "code",
   "execution_count": null,
   "metadata": {},
   "outputs": [],
   "source": [
    "x.shape = 2, 8 # 直接修改shape\n",
    "x"
   ]
  },
  {
   "cell_type": "markdown",
   "metadata": {},
   "source": [
    "维数压缩(squeeze)\n",
    "\n",
    "```python\n",
    "np.squeeze(a, axis=None)\n",
    "```"
   ]
  },
  {
   "cell_type": "code",
   "execution_count": null,
   "metadata": {},
   "outputs": [],
   "source": [
    "x = np.arange(16).reshape(1, 1, 4, 1, 4, 1, 1)\n",
    "xs = x.squeeze() # 等价于 np.squeeze(x)\n",
    "xs.shape"
   ]
  },
  {
   "cell_type": "code",
   "execution_count": null,
   "metadata": {},
   "outputs": [],
   "source": [
    "xs = x.squeeze((0, 1, -1))\n",
    "xs.shape"
   ]
  },
  {
   "cell_type": "markdown",
   "metadata": {},
   "source": [
    "维数拓宽（unsqueeze)\n",
    "\n",
    "```python\n",
    "np.expand_dims(a, axis)\n",
    "```"
   ]
  },
  {
   "cell_type": "code",
   "execution_count": null,
   "metadata": {},
   "outputs": [],
   "source": [
    "x0 = np.expand_dims(x, 0)\n",
    "print(f\"x0.shape = {x0.shape}\")\n",
    "x1 = np.expand_dims(x, 1)\n",
    "print(f\"x1.shape = {x1.shape}\")\n",
    "x2 = np.expand_dims(x, 2)\n",
    "print(f\"x2.shape = {x2.shape}\")"
   ]
  },
  {
   "cell_type": "markdown",
   "metadata": {},
   "source": [
    "维度占位符：\n",
    "\n",
    "* `-1`用来自动推断维度\n",
    "* `np.newaxis`用来拓宽新的维度"
   ]
  },
  {
   "cell_type": "code",
   "execution_count": null,
   "metadata": {},
   "outputs": [],
   "source": [
    "np.arange(16).reshape(2, -1, 2).shape # -1 被推断为 4"
   ]
  },
  {
   "cell_type": "code",
   "execution_count": null,
   "metadata": {},
   "outputs": [],
   "source": [
    "x = np.arange(16).reshape(2, -1, 2)\n",
    "x[:, np.newaxis, :, np.newaxis, :].shape"
   ]
  },
  {
   "cell_type": "code",
   "execution_count": null,
   "metadata": {},
   "outputs": [],
   "source": [
    "assert np.newaxis is None # 实际上就是None\n",
    "x = np.arange(16).reshape(2, -1, 2)\n",
    "x[:, None, :, None, :].shape"
   ]
  },
  {
   "cell_type": "markdown",
   "metadata": {},
   "source": [
    "性能评估\n",
    "\n",
    "`newaxis`/`None` < `reshape` < `expand_dims`"
   ]
  },
  {
   "cell_type": "code",
   "execution_count": null,
   "metadata": {},
   "outputs": [],
   "source": [
    "x = np.random.randn(10, 10, 10)\n",
    "%timeit x[..., None]\n",
    "%timeit x[None, ...]\n",
    "%timeit x.reshape(10, 10, 10, 1)\n",
    "%timeit x.reshape(1, 10, 10, 10)\n",
    "%timeit np.expand_dims(x, -1)\n",
    "%timeit np.expand_dims(x, 0)"
   ]
  },
  {
   "cell_type": "markdown",
   "metadata": {},
   "source": [
    "## 3 高级话题1: 广播（broadcasting）\n",
    "\n",
    "遇到尺寸不相同的逐元素操作时，广播可以让其中一部分操作变得可行\n",
    "\n",
    "参考材料：\n",
    "\n",
    "* [广播概念](https://numpy.org/doc/1.17/user/theory.broadcasting.html#array-broadcasting-in-numpy)\n",
    "* [广播基础](https://numpy.org/doc/1.17/user/basics.broadcasting.html)\n",
    "\n",
    "广播规则：\n",
    "\n",
    "1. 拓展维度：如果矩阵的维数不相同，在小矩阵维数的**前面**填上\"1\"\n",
    "2. 拓展尺寸：对于长度为\"1\"的维度，其尺寸被拓宽为对应的大矩阵的长度，并且每一个元素的值都相同\n",
    "3. 维度与尺寸拓展后：矩阵的shape必须相同"
   ]
  },
  {
   "cell_type": "markdown",
   "metadata": {},
   "source": [
    "1. 拓展维度"
   ]
  },
  {
   "cell_type": "code",
   "execution_count": null,
   "metadata": {},
   "outputs": [],
   "source": [
    "x = np.arange(4).reshape(2, 2)\n",
    "y = np.arange(4).reshape(1, 2, 2)\n",
    "\n",
    "# original:    (2, 2)    * (1, 2, 2)\n",
    "# expand_dims: (1, 2, 2) * (1, 2, 2)\n",
    "x * y # 等价于: np.expand_dims(x, 0) * y"
   ]
  },
  {
   "cell_type": "code",
   "execution_count": null,
   "metadata": {},
   "outputs": [],
   "source": [
    "np.expand_dims(x, 0) * y"
   ]
  },
  {
   "cell_type": "markdown",
   "metadata": {},
   "source": [
    "2. 拓展尺寸：对于长度为\"1\"的维度，其尺寸被拓宽为对应的大矩阵的长度，并且每一个元素的值都相同"
   ]
  },
  {
   "cell_type": "code",
   "execution_count": null,
   "metadata": {},
   "outputs": [],
   "source": [
    "x = np.arange(9).reshape(3, 3, 1)\n",
    "y = np.arange(6).reshape(1, 3, 2)\n",
    "\n",
    "# original: (3, 3, 1) * (1, 3, 2)\n",
    "# repeat:   (3, 3, 2) * (3, 3, 2)\n",
    "x * y # 等价于 x.repeat(2, axis=2) * y.repeat(3, axis=0)"
   ]
  },
  {
   "cell_type": "code",
   "execution_count": null,
   "metadata": {},
   "outputs": [],
   "source": [
    "X = x.repeat(2, axis=2)\n",
    "Y = y.repeat(3, axis=0)\n",
    "X * Y"
   ]
  },
  {
   "cell_type": "markdown",
   "metadata": {},
   "source": [
    "3. 维度与尺寸拓展后：矩阵的shape必须相同"
   ]
  },
  {
   "cell_type": "code",
   "execution_count": null,
   "metadata": {},
   "outputs": [],
   "source": [
    "x = np.arange(6).reshape(2, 3, 1)\n",
    "y = np.arange(6).reshape(3, 2)\n",
    "# ✅ \n",
    "# original:    (2, 3, 1) * (3, 2)\n",
    "# expand_dims: (2, 3, 1) * (1, 3, 2)\n",
    "# repeat:      (2, 3, 2) * (2, 3, 2)\n",
    "x * y"
   ]
  },
  {
   "cell_type": "code",
   "execution_count": null,
   "metadata": {},
   "outputs": [],
   "source": [
    "x = np.arange(6).reshape(2, 3, 1)\n",
    "y = np.arange(6).reshape(2, 3)\n",
    "# ❌\n",
    "# original: (2, 3, 1) * (1, 2, 3)\n",
    "# repeat:   (2, 3, 3) * (2, 2, 3)\n",
    "x * y"
   ]
  },
  {
   "cell_type": "markdown",
   "metadata": {},
   "source": [
    "例：利用广播来高效实现`meshgrid`"
   ]
  },
  {
   "cell_type": "code",
   "execution_count": null,
   "metadata": {},
   "outputs": [],
   "source": [
    "x = np.array([1, 2])\n",
    "y = np.array([4, 5])\n",
    "X, Y= np.meshgrid(x, y)\n",
    "print(f\"X.shape={X.shape}\")\n",
    "print(f\"Y.shape={Y.shape}\")\n",
    "print(\"X is:\")\n",
    "print(X)\n",
    "X * Y"
   ]
  },
  {
   "cell_type": "code",
   "execution_count": null,
   "metadata": {},
   "outputs": [],
   "source": [
    "X = x.reshape(-1, 1)\n",
    "Y = y.reshape(1, -1)\n",
    "X * Y"
   ]
  },
  {
   "cell_type": "code",
   "execution_count": null,
   "metadata": {},
   "outputs": [],
   "source": [
    "X, Y = np.ix_(x, y) # 自动对x,y进行reshape\n",
    "X * Y"
   ]
  },
  {
   "cell_type": "code",
   "execution_count": null,
   "metadata": {},
   "outputs": [],
   "source": [
    "# benchmark\n",
    "\n",
    "x = np.arange(1, 1000)\n",
    "y = np.arange(1, 1000)\n",
    "\n",
    "# 返回两个1000*1000矩阵\n",
    "%timeit X, Y = np.meshgrid(x, y)\n",
    "%timeit X * Y\n",
    "\n",
    "# 返回两个1000*1矩阵 :D\n",
    "# --> 较小的内存开销带来的是更快的计算速度\n",
    "%timeit X, Y = np.ix_(x, y)\n",
    "%timeit X * Y"
   ]
  },
  {
   "cell_type": "markdown",
   "metadata": {},
   "source": [
    "## 4. 数组元素选取、切片与组合"
   ]
  },
  {
   "cell_type": "markdown",
   "metadata": {},
   "source": [
    "基本规则：\n",
    "\n",
    "1. 通过`[i, j, k]`进行元素选取\n",
    "2. 通过`[start]:[stop]:[step]`进行切片\n",
    "3. 通过`...`来省略中间的`:` （如果是需要省略后面所有的`:`则不需要`...`)"
   ]
  },
  {
   "cell_type": "markdown",
   "metadata": {},
   "source": [
    "### 4.1. 元素选取"
   ]
  },
  {
   "cell_type": "code",
   "execution_count": null,
   "metadata": {},
   "outputs": [],
   "source": [
    "x = np.arange(16).reshape(4, 4)\n",
    "x"
   ]
  },
  {
   "cell_type": "code",
   "execution_count": null,
   "metadata": {},
   "outputs": [],
   "source": [
    "x[0, 0] # 第 (0,0) 个元素"
   ]
  },
  {
   "cell_type": "code",
   "execution_count": null,
   "metadata": {},
   "outputs": [],
   "source": [
    "x[-1, -1] # 最后一行的最后一个元素"
   ]
  },
  {
   "cell_type": "code",
   "execution_count": null,
   "metadata": {},
   "outputs": [],
   "source": [
    "x[0, -2] # 第0行的倒数第二个元素"
   ]
  },
  {
   "cell_type": "code",
   "execution_count": null,
   "metadata": {},
   "outputs": [],
   "source": [
    "x[0] # 第 0 行 # 等价于 x[0, :]"
   ]
  },
  {
   "cell_type": "code",
   "execution_count": null,
   "metadata": {},
   "outputs": [],
   "source": [
    "x[-1] # 最后一行"
   ]
  },
  {
   "cell_type": "code",
   "execution_count": null,
   "metadata": {},
   "outputs": [],
   "source": [
    "x[:, 0] # 第 0 列 ⚠️ 维度为(4, )而不是(1, 4)"
   ]
  },
  {
   "cell_type": "code",
   "execution_count": null,
   "metadata": {},
   "outputs": [],
   "source": [
    "x[:, 0].shape"
   ]
  },
  {
   "cell_type": "code",
   "execution_count": null,
   "metadata": {},
   "outputs": [],
   "source": [
    "x[(0, 3)] # 第0行的第3个元素"
   ]
  },
  {
   "cell_type": "code",
   "execution_count": null,
   "metadata": {},
   "outputs": [],
   "source": [
    "x[0][3] # 第0行的第三个元素"
   ]
  },
  {
   "cell_type": "markdown",
   "metadata": {},
   "source": [
    "* `x[0,3]`与`x[(0,3)]`直接取出第(0,3)个元素\n",
    "* `x[0][3]`先取出第0行，然后再取出第3个元素\n",
    "\n",
    "⚠️性能建议：除非必要，使用前者"
   ]
  },
  {
   "cell_type": "code",
   "execution_count": null,
   "metadata": {},
   "outputs": [],
   "source": [
    "# 1~2x speedup\n",
    "z = np.random.randn(5000, 5000)\n",
    "%timeit z[(0, 3)] # :)\n",
    "%timeit z[0, 3]   # :)\n",
    "%timeit z[0][3]   # :("
   ]
  },
  {
   "cell_type": "code",
   "execution_count": null,
   "metadata": {},
   "outputs": [],
   "source": [
    "# grid-like indexing\n",
    "x[(0, 1, 3), (0, 2, 1)] # 第(0, 0), (1, 2) 和 (3,1)个元素"
   ]
  },
  {
   "cell_type": "code",
   "execution_count": null,
   "metadata": {},
   "outputs": [],
   "source": [
    "x[(0, 1, 3), 0] # 第 (0,0), (1,0), (3,0) 个元素 ! broadcasting is powerful"
   ]
  },
  {
   "cell_type": "code",
   "execution_count": null,
   "metadata": {},
   "outputs": [],
   "source": [
    "# 利用bool值作索引\n",
    "x = np.arange(4).reshape(2, 2)\n",
    "idx = np.array([\n",
    "    [True, True],\n",
    "    [False, True]\n",
    "])\n",
    "x[idx]"
   ]
  },
  {
   "cell_type": "code",
   "execution_count": null,
   "metadata": {},
   "outputs": [],
   "source": [
    "x[(x>2)&(x<7)] # 大于2小于7的元素"
   ]
  },
  {
   "cell_type": "markdown",
   "metadata": {},
   "source": [
    "### 4.2. 切片"
   ]
  },
  {
   "cell_type": "code",
   "execution_count": null,
   "metadata": {},
   "outputs": [],
   "source": [
    "x = np.arange(16).reshape(4, 4)\n",
    "x"
   ]
  },
  {
   "cell_type": "code",
   "execution_count": null,
   "metadata": {},
   "outputs": [],
   "source": [
    "x[:] # 全部内容"
   ]
  },
  {
   "cell_type": "code",
   "execution_count": null,
   "metadata": {},
   "outputs": [],
   "source": [
    "x[0:2] # 第0至2行 （不包含第22）"
   ]
  },
  {
   "cell_type": "code",
   "execution_count": null,
   "metadata": {},
   "outputs": [],
   "source": [
    "x[0:4:2] # 第0至4行，间隔为2 即:第0,2行"
   ]
  },
  {
   "cell_type": "code",
   "execution_count": null,
   "metadata": {},
   "outputs": [],
   "source": [
    "x[0:2, 2:4]"
   ]
  },
  {
   "cell_type": "code",
   "execution_count": null,
   "metadata": {},
   "outputs": [],
   "source": [
    "x[0:2, -2:-1] # ⚠️ 左闭右开：取不到 -1"
   ]
  },
  {
   "cell_type": "code",
   "execution_count": null,
   "metadata": {},
   "outputs": [],
   "source": [
    "x[0:2, -2:]"
   ]
  },
  {
   "cell_type": "code",
   "execution_count": null,
   "metadata": {},
   "outputs": [],
   "source": [
    "x = np.arange(16).reshape(2, 2, 2, 2)\n",
    "x"
   ]
  },
  {
   "cell_type": "code",
   "execution_count": null,
   "metadata": {},
   "outputs": [],
   "source": [
    "x[1, 1, :, 0] # : 占位符表示该维度元素全部选取"
   ]
  },
  {
   "cell_type": "code",
   "execution_count": null,
   "metadata": {},
   "outputs": [],
   "source": [
    "x[1, :, :, 0]"
   ]
  },
  {
   "cell_type": "code",
   "execution_count": null,
   "metadata": {},
   "outputs": [],
   "source": [
    "x[1, ..., 0] # ... 用于省略中间的 :"
   ]
  },
  {
   "cell_type": "markdown",
   "metadata": {},
   "source": [
    "批量赋值 = 切片+广播"
   ]
  },
  {
   "cell_type": "code",
   "execution_count": null,
   "metadata": {},
   "outputs": [],
   "source": [
    "x = np.zeros((3, 3))\n",
    "x[:] = 1\n",
    "x"
   ]
  },
  {
   "cell_type": "code",
   "execution_count": null,
   "metadata": {},
   "outputs": [],
   "source": [
    "x = np.zeros((3, 3))\n",
    "# original:    (3, 2) = (1, 2)\n",
    "# repeat:      (3, 2) = (2, 2)\n",
    "x[:,0:2] = np.array([[1, 2]])\n",
    "x"
   ]
  },
  {
   "cell_type": "markdown",
   "metadata": {},
   "source": [
    "### 4.3 组合"
   ]
  },
  {
   "cell_type": "code",
   "execution_count": null,
   "metadata": {},
   "outputs": [],
   "source": [
    "x = np.arange(16).reshape(4, 4)\n",
    "y = np.arange(16, 0, -1).reshape(4, 4)"
   ]
  },
  {
   "cell_type": "code",
   "execution_count": null,
   "metadata": {},
   "outputs": [],
   "source": [
    "np.hstack([x, y]) # horizontal stack 水平堆叠 aka np.column_stack"
   ]
  },
  {
   "cell_type": "code",
   "execution_count": null,
   "metadata": {},
   "outputs": [],
   "source": [
    "np.vstack([x, y]) # vertical stack 垂直堆叠 aka np.row_stack"
   ]
  },
  {
   "cell_type": "code",
   "execution_count": null,
   "metadata": {},
   "outputs": [],
   "source": [
    "z = np.stack([x, y], 0) # 在第0维堆叠 ⚠️不等于vstack\n",
    "print(z.shape)\n",
    "z"
   ]
  },
  {
   "cell_type": "code",
   "execution_count": null,
   "metadata": {},
   "outputs": [],
   "source": [
    "z = np.concatenate([x, y], 0) # 在第0维相接\n",
    "print(z.shape)\n",
    "z"
   ]
  },
  {
   "cell_type": "markdown",
   "metadata": {},
   "source": [
    "### 4.4. 进阶内容2: `reference`, `view`, and `copy`"
   ]
  },
  {
   "cell_type": "markdown",
   "metadata": {},
   "source": [
    "* 赋值操作时不会进行任何对象的复制 -- 类似于C++的引用/指针"
   ]
  },
  {
   "cell_type": "code",
   "execution_count": null,
   "metadata": {},
   "outputs": [],
   "source": [
    "x = np.arange(8)\n",
    "y = x\n",
    "y is x # 说明y与x在python中为相同对象的不同名称"
   ]
  },
  {
   "cell_type": "code",
   "execution_count": null,
   "metadata": {},
   "outputs": [],
   "source": [
    "y[0] = 100 # x与y共享同一数据\n",
    "x"
   ]
  },
  {
   "cell_type": "code",
   "execution_count": null,
   "metadata": {},
   "outputs": [],
   "source": [
    "y.shape = 2, 4 # x与y为同一矩阵\n",
    "x"
   ]
  },
  {
   "cell_type": "markdown",
   "metadata": {},
   "source": [
    "* `view`为浅拷贝，创建新矩阵，但与原矩阵共享内部数据"
   ]
  },
  {
   "cell_type": "code",
   "execution_count": null,
   "metadata": {},
   "outputs": [],
   "source": [
    "x = np.arange(8)\n",
    "y = x.view()\n",
    "y is x # x与y不是同一对象"
   ]
  },
  {
   "cell_type": "code",
   "execution_count": null,
   "metadata": {},
   "outputs": [],
   "source": [
    "y[0] = 100 # x与y共享同一数据\n",
    "x"
   ]
  },
  {
   "cell_type": "code",
   "execution_count": null,
   "metadata": {},
   "outputs": [],
   "source": [
    "y.shape = 2, 4 # x与y为不同矩阵，因此不会影响x的形状\n",
    "x"
   ]
  },
  {
   "cell_type": "markdown",
   "metadata": {},
   "source": [
    "* `copy`为深拷贝 -- 复制矩阵的内部数据"
   ]
  },
  {
   "cell_type": "code",
   "execution_count": null,
   "metadata": {},
   "outputs": [],
   "source": [
    "x = np.arange(8)\n",
    "y = x.copy()\n",
    "y is x # x与y不是同一对象"
   ]
  },
  {
   "cell_type": "code",
   "execution_count": null,
   "metadata": {},
   "outputs": [],
   "source": [
    "y[0] = 100 # x与y不共享同一份数据\n",
    "x"
   ]
  },
  {
   "cell_type": "code",
   "execution_count": null,
   "metadata": {},
   "outputs": [],
   "source": [
    "y.shape = 2, 4 # x与y为不同矩阵，因此不会影响x的形状\n",
    "x"
   ]
  },
  {
   "cell_type": "markdown",
   "metadata": {},
   "source": [
    "## 随堂作业"
   ]
  },
  {
   "cell_type": "markdown",
   "metadata": {},
   "source": [
    "* 找到下述图像`img_idx`的真实值并打印它"
   ]
  },
  {
   "cell_type": "code",
   "execution_count": null,
   "metadata": {},
   "outputs": [],
   "source": [
    "RGB_palette = np.array([\n",
    "    [0., 0., 0.], # Black\n",
    "    [1., 0., 0.], # Red\n",
    "    [0., 1., 0.], # Green\n",
    "    [0., 0., 1.], # Blue\n",
    "    [1., 1., 1.], # White\n",
    "]) # RGB调色盘\n",
    "\n",
    "img_idx = np.array([ # 每个元素i表示调色盘中的第i个色彩\n",
    "    [0, 1, 2, 3, 4], # 0 --> black\n",
    "    [1, 2, 3, 4, 0], # 1 --> red\n",
    "    [2, 3, 4, 0, 1], # 2 --> green\n",
    "    [3, 4, 0, 1, 2], # 3 --> blue\n",
    "    [4, 0, 1, 2, 3]  # 4 --> white\n",
    "])"
   ]
  },
  {
   "cell_type": "code",
   "execution_count": null,
   "metadata": {},
   "outputs": [],
   "source": [
    "img = np.zeros_like(img_idx) # find the true color !\n",
    "# e.g., img[1, 1] = [1., 0., 0.,]\n",
    "plt.imshow(img)"
   ]
  },
  {
   "cell_type": "markdown",
   "metadata": {},
   "source": [
    "* `X`与`Y`分别代表两个2维矩阵:计算`X[0]+Y[0]`, `X[0]+Y[1]`, `X[1]+Y[0]`, `X[1]+Y[1]`并将它们组合成`(4, 2, 3)`矩阵"
   ]
  },
  {
   "cell_type": "code",
   "execution_count": null,
   "metadata": {},
   "outputs": [],
   "source": [
    "X = np.arange(12).reshape(2, 2, 3)\n",
    "Y = np.arange(12, 0, -1).reshape(2, 2, 3)\n",
    "# e.g., Z[0] = X[0]+Y[0]"
   ]
  },
  {
   "cell_type": "markdown",
   "metadata": {},
   "source": [
    "* `X`与`Y`分别代表一堆坐标对：（X[0], Y[0]), (X[1], Y[1]), ..., (X[100], Y[100]), 试构造它们的meshgrid并返回`(100, 2, 8, 8)`矩阵`Z`，其中`Z[5, 0, 8, 8]`表示`meshgrid(X[5], Y[5])[0]`"
   ]
  },
  {
   "cell_type": "code",
   "execution_count": null,
   "metadata": {},
   "outputs": [],
   "source": [
    "X = np.arange(800).reshape(100, 8)\n",
    "Y = np.arange(800, 0, -1).reshape(100, 8)\n",
    "# e.g., Z[0] = np.meshgrid(X[0], Y[0])"
   ]
  },
  {
   "cell_type": "markdown",
   "metadata": {},
   "source": [
    "* 矩阵的下标顺序速度会严重影响程序的计算性能，试用三重`for`循环来手写不同下标顺序的二维矩阵乘法，并利用`%timeit`来测试它们 -- 一切以benchmark为准"
   ]
  }
 ],
 "metadata": {
  "kernelspec": {
   "display_name": "AI-Course",
   "language": "python",
   "name": "ai-course"
  },
  "language_info": {
   "codemirror_mode": {
    "name": "ipython",
    "version": 3
   },
   "file_extension": ".py",
   "mimetype": "text/x-python",
   "name": "python",
   "nbconvert_exporter": "python",
   "pygments_lexer": "ipython3",
   "version": "3.7.3"
  }
 },
 "nbformat": 4,
 "nbformat_minor": 4
}
