{
 "cells": [
  {
   "cell_type": "code",
   "execution_count": 1,
   "metadata": {},
   "outputs": [],
   "source": [
    "from sklearn import datasets\n",
    "import matplotlib.pyplot as plt\n",
    "import numpy as np\n",
    "import math"
   ]
  },
  {
   "cell_type": "code",
   "execution_count": 2,
   "metadata": {},
   "outputs": [],
   "source": [
    "def load_iris(ratio=0.8):\n",
    "    features, target = datasets.load_iris(True)\n",
    "    \n",
    "    # 只保留0,1分类 -- 把任务变成二分类任务\n",
    "    idx = np.bitwise_or(target == 0, target == 1)\n",
    "    features = features[idx]\n",
    "    target = target[idx]\n",
    "    \n",
    "    num_samples = len(target)\n",
    "    num_train = math.ceil(num_samples * ratio)\n",
    "    \n",
    "    \n",
    "    # 随机打乱数据\n",
    "    idx = np.random.permutation(np.arange(num_samples))\n",
    "    traindata = features[idx[:num_train]], target[idx[:num_train]]\n",
    "    validdata = features[idx[num_train:]], target[idx[num_train:]]\n",
    "    \n",
    "    return traindata, validdata"
   ]
  },
  {
   "cell_type": "markdown",
   "metadata": {},
   "source": [
    "# 作业三\n",
    "\n",
    "## 四、Logistic回归与最大熵模型\n",
    "\n",
    "要求：\n",
    "\n",
    "* 通过logistic回归来对只含两类的iris数据集进行二分类\n",
    "* 利用梯度下降法（定步长）\n",
    "* 在尽量不修改代码结构的前提下完成工作\n",
    "\n",
    "ETA：1-5 hours"
   ]
  },
  {
   "cell_type": "markdown",
   "metadata": {},
   "source": [
    "读取数据"
   ]
  },
  {
   "cell_type": "code",
   "execution_count": 3,
   "metadata": {},
   "outputs": [],
   "source": [
    "(X_train, Y_train), (X_valid, Y_valid) = load_iris()"
   ]
  },
  {
   "cell_type": "markdown",
   "metadata": {},
   "source": [
    "### 一、定义线性回归函数\n",
    "\n",
    "为了简化推导，记$\\hat{Y} = WX+b$\n",
    "\n",
    "预测 -- 取下述概率最大的值：\n",
    "\n",
    "$$P(class=1|x) = \\frac{\\exp(\\hat{Y})}{1+\\exp(\\hat{Y})}$$\n",
    "$$P(class=0|x) = \\frac{1}{1+\\exp(\\hat{Y})}$$"
   ]
  },
  {
   "cell_type": "code",
   "execution_count": 4,
   "metadata": {},
   "outputs": [],
   "source": [
    "class Logistic:\n",
    "    def __init__(self, in_channels):\n",
    "        self.W = np.zeros(in_channels)\n",
    "        self.b = 0\n",
    "        \n",
    "        \n",
    "    def __call__(self, X):\n",
    "        \"\"\"计算 \\hat{Y} = WX + b，其中WX为内积\"\"\"\n",
    "        assert len(X.shape) == 2\n",
    "        # 这里只计算WX+b，因为在计算对数似然函数时需要用到该值\n",
    "        return X @ self.W + self.b\n",
    "    \n",
    "    \n",
    "    def predict(self, X):\n",
    "        \"\"\"预测X所属的类别\"\"\"\n",
    "        assert len(X.shape) == 2\n",
    "        expY = np.exp(self(X))\n",
    "        prob = np.vstack([np.ones_like(expY), expY])/(1+expY)\n",
    "        return np.argmax(prob, axis=0)\n",
    "    \n",
    "    \n",
    "def accuracy(real, predict):\n",
    "    \"\"\"计算预测准确度\"\"\"\n",
    "    return np.sum(real == predict)/real.size"
   ]
  },
  {
   "cell_type": "code",
   "execution_count": 5,
   "metadata": {},
   "outputs": [
    {
     "data": {
      "text/plain": [
       "array([0., 0., 0., 0., 0., 0., 0., 0., 0., 0., 0., 0., 0., 0., 0., 0., 0.,\n",
       "       0., 0., 0., 0., 0., 0., 0., 0., 0., 0., 0., 0., 0., 0., 0., 0., 0.,\n",
       "       0., 0., 0., 0., 0., 0., 0., 0., 0., 0., 0., 0., 0., 0., 0., 0., 0.,\n",
       "       0., 0., 0., 0., 0., 0., 0., 0., 0., 0., 0., 0., 0., 0., 0., 0., 0.,\n",
       "       0., 0., 0., 0., 0., 0., 0., 0., 0., 0., 0., 0.])"
      ]
     },
     "execution_count": 5,
     "metadata": {},
     "output_type": "execute_result"
    }
   ],
   "source": [
    "# 测试LinearLayer是否能够正确调用\n",
    "num_features = X_train.shape[-1]\n",
    "f = Logistic(num_features)\n",
    "\n",
    "f(X_train)"
   ]
  },
  {
   "cell_type": "code",
   "execution_count": 6,
   "metadata": {},
   "outputs": [
    {
     "data": {
      "text/plain": [
       "array([0, 0, 0, 0, 0, 0, 0, 0, 0, 0, 0, 0, 0, 0, 0, 0, 0, 0, 0, 0, 0, 0,\n",
       "       0, 0, 0, 0, 0, 0, 0, 0, 0, 0, 0, 0, 0, 0, 0, 0, 0, 0, 0, 0, 0, 0,\n",
       "       0, 0, 0, 0, 0, 0, 0, 0, 0, 0, 0, 0, 0, 0, 0, 0, 0, 0, 0, 0, 0, 0,\n",
       "       0, 0, 0, 0, 0, 0, 0, 0, 0, 0, 0, 0, 0, 0])"
      ]
     },
     "execution_count": 6,
     "metadata": {},
     "output_type": "execute_result"
    }
   ],
   "source": [
    "f.predict(X_train)"
   ]
  },
  {
   "cell_type": "code",
   "execution_count": 7,
   "metadata": {},
   "outputs": [
    {
     "data": {
      "text/plain": [
       "0.5"
      ]
     },
     "execution_count": 7,
     "metadata": {},
     "output_type": "execute_result"
    }
   ],
   "source": [
    "accuracy(Y_train, f.predict(X_train)) # 瞎猜 -- 50%左右的分类准确度"
   ]
  },
  {
   "cell_type": "markdown",
   "metadata": {},
   "source": [
    "### 二、定义误差 -- 对数似然函数\n",
    "\n",
    "$$ L(Y, \\hat{Y}) = \\sum_{i=1}^{N} [y_i\\hat{y}_i - log(1+\\exp(\\hat{y}_i))]$$\n",
    "\n",
    "其中$Y$为真实值，$\\hat{Y} = Wx + b$为预测值\n",
    "\n",
    "注：$L(Y, \\hat{Y}) \\neq L(\\hat{Y}, Y)$"
   ]
  },
  {
   "cell_type": "code",
   "execution_count": 8,
   "metadata": {},
   "outputs": [],
   "source": [
    "class NegativeLogLikelihood:\n",
    "    # 针对二项Logistic的负对数似然函数\n",
    "    # 梯度下降法求解的问题实际上是 min. -L\n",
    "    def __call__(self, real, predict):\n",
    "        assert len(real.shape) == 1\n",
    "        assert real.size == predict.size\n",
    "        \n",
    "        return -np.sum(real*predict - np.log(1+np.exp(predict)))"
   ]
  },
  {
   "cell_type": "code",
   "execution_count": 9,
   "metadata": {},
   "outputs": [
    {
     "data": {
      "text/plain": [
       "55.451774444795625"
      ]
     },
     "execution_count": 9,
     "metadata": {},
     "output_type": "execute_result"
    }
   ],
   "source": [
    "# 测试loss是否能够正确调用\n",
    "loss = NegativeLogLikelihood()\n",
    "loss(Y_train, f(X_train))"
   ]
  },
  {
   "cell_type": "markdown",
   "metadata": {},
   "source": [
    "### 三、计算梯度\n",
    "\n",
    "为了使用梯度下降法，需要计算梯度$(\\frac{\\partial L}{\\partial W}, \\frac{\\partial L}{\\partial b})$\n",
    "\n",
    "利用链式法则：\n",
    "\n",
    "$$ \\frac{\\partial L}{\\partial W} = \\sum_{i=1}^{N}\\frac{\\partial L}{\\partial \\hat{Y}_i} \\frac{\\partial \\hat{Y}_i}{\\partial W} $$\n",
    "$$ \\frac{\\partial L}{\\partial b} = \\sum_{i=1}^{N}\\frac{\\partial L}{\\partial \\hat{Y}_i} \\frac{\\partial \\hat{Y}_i}{\\partial b} $$"
   ]
  },
  {
   "cell_type": "code",
   "execution_count": 10,
   "metadata": {},
   "outputs": [],
   "source": [
    "def grad(Y, X, Y_out):\n",
    "    \"\"\"\n",
    "    计算负对数似然函数在(X, Y)上关于W与b的偏导数\n",
    "    Inputs:\n",
    "      Y: shape (N, )\n",
    "        类别的真实值\n",
    "      X: shape (N, C)\n",
    "        输入特征\n",
    "      Y_out: shape (N, )\n",
    "        Y_out = WX+b\n",
    "\n",
    "    Outputs:\n",
    "      dLdW: shape (C, )\n",
    "      dLdb: shape (1, )\n",
    "    \"\"\"\n",
    "    expY_out = np.exp(Y_out)\n",
    "    # 实现它\n",
    "    dLdY = -Y + expY_out/(1+expY_out) # dLdY.shape == (?, ) （?为占位符, 不需要回答..)\n",
    "    dYdW = X # dYdW.shape == (?, 4)\n",
    "    dYdb = 1 # dYdb.shape == (?, 1)\n",
    "    \n",
    "    dLdW = np.sum(dLdY.reshape(-1, 1)*dYdW, axis=0) # dLdW.shape == (4, )\n",
    "    dLdb = np.array(np.sum(dLdY*dYdb, axis=0)) # dLdb.shape == (1, )\n",
    "                 \n",
    "    return dLdW, dLdb"
   ]
  },
  {
   "cell_type": "code",
   "execution_count": 11,
   "metadata": {},
   "outputs": [
    {
     "data": {
      "text/plain": [
       "(array([-19.05,  11.95, -56.7 , -21.75]), array(0.))"
      ]
     },
     "execution_count": 11,
     "metadata": {},
     "output_type": "execute_result"
    }
   ],
   "source": [
    "# 测试梯度是否正确计算\n",
    "grad(Y_train, X_train, f(X_train))"
   ]
  },
  {
   "cell_type": "code",
   "execution_count": 12,
   "metadata": {},
   "outputs": [],
   "source": [
    "class GradientDescent:\n",
    "    def __init__(self, step=1e-3, thres=1e3):\n",
    "        self.step = step\n",
    "        self.thres = np.abs(thres)\n",
    "        \n",
    "        \n",
    "    def update(self, f:Logistic, dLdW, dLdb):\n",
    "        \"\"\"利用梯度dW来更新f的权重\"\"\"\n",
    "        f.W -= self.step * dLdW\n",
    "        f.b -= self.step * dLdb"
   ]
  },
  {
   "cell_type": "code",
   "execution_count": 13,
   "metadata": {},
   "outputs": [
    {
     "name": "stdout",
     "output_type": "stream",
     "text": [
      "before update: loss:55.4518 accuracy:0.5\n",
      "after update: loss:51.9827 accuracy:0.5\n"
     ]
    }
   ],
   "source": [
    "# 测试梯度更新是否正常工作\n",
    "opt = GradientDescent(1e-3)\n",
    "f = Logistic(num_features)\n",
    "\n",
    "print(f\"before update: loss:{loss(Y_train, f(X_train)):.4f} accuracy:{accuracy(Y_train, f.predict(X_train))}\")\n",
    "\n",
    "dLdW, dLdb = grad(Y_train, X_train, f(X_train))\n",
    "opt.update(f, dLdW, dLdb)\n",
    "\n",
    "print(f\"after update: loss:{loss(Y_train, f(X_train)):.4f} accuracy:{accuracy(Y_train, f.predict(X_train))}\")"
   ]
  },
  {
   "cell_type": "markdown",
   "metadata": {},
   "source": [
    "### 四、把所有函数组合成一个完整的训练过程"
   ]
  },
  {
   "cell_type": "code",
   "execution_count": 14,
   "metadata": {},
   "outputs": [
    {
     "name": "stdout",
     "output_type": "stream",
     "text": [
      "Iter 0: loss 55.4518, accu: 0.5000, valid loss 13.8530, valid accu 0.5000\n",
      "Iter 50: loss 53.6268, accu: 0.5000, valid loss 13.4166, valid accu 0.5000\n",
      "Iter 100: loss 52.1204, accu: 0.5000, valid loss 13.0496, valid accu 0.5000\n",
      "Iter 150: loss 50.7595, accu: 0.5000, valid loss 12.7138, valid accu 0.5000\n",
      "Iter 200: loss 49.4809, accu: 0.5250, valid loss 12.3958, valid accu 0.5000\n",
      "Iter 250: loss 48.2607, accu: 0.6750, valid loss 12.0911, valid accu 0.6000\n",
      "Iter 300: loss 47.0893, accu: 0.8500, valid loss 11.7978, valid accu 0.9000\n",
      "Iter 350: loss 45.9618, accu: 0.9500, valid loss 11.5151, valid accu 1.0000\n",
      "Iter 400: loss 44.8758, accu: 1.0000, valid loss 11.2426, valid accu 1.0000\n",
      "Iter 450: loss 43.8290, accu: 1.0000, valid loss 10.9798, valid accu 1.0000\n",
      "Iter 500: loss 42.8199, accu: 1.0000, valid loss 10.7265, valid accu 1.0000\n",
      "Iter 550: loss 41.8469, accu: 1.0000, valid loss 10.4822, valid accu 1.0000\n",
      "Iter 600: loss 40.9084, accu: 1.0000, valid loss 10.2467, valid accu 1.0000\n",
      "Iter 650: loss 40.0030, accu: 1.0000, valid loss 10.0194, valid accu 1.0000\n",
      "Iter 700: loss 39.1294, accu: 1.0000, valid loss 9.8002, valid accu 1.0000\n",
      "Iter 750: loss 38.2863, accu: 1.0000, valid loss 9.5887, valid accu 1.0000\n",
      "Iter 800: loss 37.4723, accu: 1.0000, valid loss 9.3846, valid accu 1.0000\n",
      "Iter 850: loss 36.6863, accu: 1.0000, valid loss 9.1875, valid accu 1.0000\n",
      "Iter 900: loss 35.9271, accu: 1.0000, valid loss 8.9971, valid accu 1.0000\n",
      "Iter 950: loss 35.1936, accu: 1.0000, valid loss 8.8133, valid accu 1.0000\n"
     ]
    }
   ],
   "source": [
    "num_features = X_train.shape[-1]\n",
    "f = Logistic(num_features)\n",
    "opt = GradientDescent(1e-5)\n",
    "loss = NegativeLogLikelihood()\n",
    "\n",
    "valid_losses = []\n",
    "valid_accuracies = []\n",
    "train_losses = []\n",
    "train_accuracies = []\n",
    "for i in range(1000):\n",
    "    X, Y = X_train, Y_train\n",
    "    \n",
    "    Y_out = f(X)       \n",
    "    dLdW, dLdb = grad(Y, X, Y_out)\n",
    "    opt.update(f, dLdW, dLdb)\n",
    "    \n",
    "    cur_valid_loss = loss(Y_valid, f(X_valid))\n",
    "    cur_valid_accu = accuracy(Y_valid, f.predict(X_valid))\n",
    "    cur_train_loss = loss(Y, Y_out)\n",
    "    cur_train_accu = accuracy(Y, f.predict(X))\n",
    "    valid_losses.append(cur_valid_loss) \n",
    "    valid_accuracies.append(cur_valid_accu)\n",
    "    train_losses.append(cur_train_loss)\n",
    "    train_accuracies.append(cur_train_accu)\n",
    "    \n",
    "    if i%50 == 0:\n",
    "        print(f\"Iter {i}: loss {cur_train_loss:.4f}, accu: {cur_train_accu:.4f}, valid loss {cur_valid_loss:.4f}, valid accu {cur_valid_accu:.4f}\")"
   ]
  },
  {
   "cell_type": "code",
   "execution_count": 15,
   "metadata": {},
   "outputs": [
    {
     "data": {
      "text/plain": [
       "<matplotlib.legend.Legend at 0x7f8360100898>"
      ]
     },
     "execution_count": 15,
     "metadata": {},
     "output_type": "execute_result"
    },
    {
     "data": {
      "image/png": "[encoded data removed]",
      "text/plain": [
       "<Figure size 432x288 with 1 Axes>"
      ]
     },
     "metadata": {
      "needs_background": "light"
     },
     "output_type": "display_data"
    }
   ],
   "source": [
    "plt.plot(train_losses)\n",
    "plt.plot(valid_losses)\n",
    "plt.legend([\"train loss\", \"validation loss\"])"
   ]
  },
  {
   "cell_type": "code",
   "execution_count": 16,
   "metadata": {},
   "outputs": [
    {
     "data": {
      "text/plain": [
       "<matplotlib.legend.Legend at 0x7f835d894d68>"
      ]
     },
     "execution_count": 16,
     "metadata": {},
     "output_type": "execute_result"
    },
    {
     "data": {
      "image/png": "[encoded data removed]",
      "text/plain": [
       "<Figure size 432x288 with 1 Axes>"
      ]
     },
     "metadata": {
      "needs_background": "light"
     },
     "output_type": "display_data"
    }
   ],
   "source": [
    "plt.plot(train_accuracies)\n",
    "plt.plot(valid_accuracies)\n",
    "plt.legend([\"train accuracy\", \"validation accuracy\"])"
   ]
  },
  {
   "cell_type": "code",
   "execution_count": 17,
   "metadata": {},
   "outputs": [
    {
     "data": {
      "text/plain": [
       "<matplotlib.legend.Legend at 0x7f835d86abe0>"
      ]
     },
     "execution_count": 17,
     "metadata": {},
     "output_type": "execute_result"
    },
    {
     "data": {
      "image/png": "[encoded data removed]",
      "text/plain": [
       "<Figure size 432x288 with 1 Axes>"
      ]
     },
     "metadata": {
      "needs_background": "light"
     },
     "output_type": "display_data"
    }
   ],
   "source": [
    "# 预测结果与真实结果重合\n",
    "plt.scatter(np.arange(Y_valid.size), f.predict(X_valid))\n",
    "plt.scatter(np.arange(Y_valid.size), Y_valid)\n",
    "plt.legend([\"prediction\", \"ground truth\"])"
   ]
  },
  {
   "cell_type": "code",
   "execution_count": null,
   "metadata": {},
   "outputs": [],
   "source": []
  }
 ],
 "metadata": {
  "kernelspec": {
   "display_name": "AI-Course",
   "language": "python",
   "name": "ai-course"
  },
  "language_info": {
   "codemirror_mode": {
    "name": "ipython",
    "version": 3
   },
   "file_extension": ".py",
   "mimetype": "text/x-python",
   "name": "python",
   "nbconvert_exporter": "python",
   "pygments_lexer": "ipython3",
   "version": "3.7.3"
  }
 },
 "nbformat": 4,
 "nbformat_minor": 4
}
