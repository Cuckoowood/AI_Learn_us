{
 "cells": [
  {
   "cell_type": "code",
   "execution_count": 1,
   "metadata": {},
   "outputs": [],
   "source": [
    "from sklearn import datasets\n",
    "import numpy as np\n",
    "import math\n",
    "import matplotlib.pyplot as plt"
   ]
  },
  {
   "cell_type": "code",
   "execution_count": 2,
   "metadata": {},
   "outputs": [],
   "source": [
    "def load_dummy(ratio=0.8):\n",
    "    X = np.linspace(-40, 40, num=2000).reshape(-1, 1)\n",
    "    Y = 0.02*X**3 + 2*X**2 + 30*X + 300*np.random.randn(*X.shape)\n",
    "\n",
    "    # normalization\n",
    "    X = X/80\n",
    "    Y = Y/(np.max(Y) - np.min(Y))\n",
    "    \n",
    "    features, target = X, Y\n",
    "    target.shape = -1, 1\n",
    "    num_samples = len(target)\n",
    "    num_train = math.ceil(num_samples * ratio)\n",
    "    \n",
    "    # 随机打乱数据\n",
    "    idx = np.random.permutation(np.arange(num_samples))\n",
    "    traindata = features[idx[:num_train]], target[idx[:num_train]]\n",
    "    validdata = features[idx[num_train:]], target[idx[num_train:]]\n",
    "    \n",
    "    return traindata, validdata"
   ]
  },
  {
   "cell_type": "code",
   "execution_count": 3,
   "metadata": {},
   "outputs": [],
   "source": [
    "def load_boston(ratio=0.8):\n",
    "    X, Y = datasets.load_boston(True)\n",
    "    Y.shape = -1, 1\n",
    "    \n",
    "    # normalization\n",
    "    X = X/80\n",
    "    Y = Y/(np.max(Y) - np.min(Y))\n",
    "    \n",
    "    num_samples = len(Y)\n",
    "    num_train = math.ceil(num_samples * ratio)\n",
    "    \n",
    "    # 随机打乱数据\n",
    "    idx = np.random.permutation(np.arange(num_samples))\n",
    "    traindata = X[idx[:num_train]], Y[idx[:num_train]]\n",
    "    validdata = X[idx[num_train:]], Y[idx[num_train:]]\n",
    "    \n",
    "    return traindata, validdata"
   ]
  },
  {
   "cell_type": "code",
   "execution_count": 4,
   "metadata": {},
   "outputs": [],
   "source": [
    "(X_train, Y_train), (X_valid, Y_valid) = load_boston()\n",
    "# (X_train, Y_train), (X_valid, Y_valid) = load_dummy()"
   ]
  },
  {
   "cell_type": "code",
   "execution_count": 5,
   "metadata": {},
   "outputs": [],
   "source": [
    "class Linear():\n",
    "    def __init__(self, in_features, out_features):\n",
    "        self.W = 1e-2 * np .random.randn(out_features, in_features)\n",
    "        self.b = 1e-2 * np.random.randn(out_features)\n",
    "    \n",
    "    def __call__(self, X):\n",
    "        return self.forward(X)\n",
    "    \n",
    "    def forward(self, X):\n",
    "        return X @ self.W.T + self.b"
   ]
  },
  {
   "cell_type": "code",
   "execution_count": 6,
   "metadata": {},
   "outputs": [],
   "source": [
    "class Sigmoid():\n",
    "    def __call__(self, X):\n",
    "        return self.forward(X)\n",
    "    \n",
    "    def forward(self, X):\n",
    "        return 1/(1+np.exp(-X))"
   ]
  },
  {
   "cell_type": "code",
   "execution_count": 7,
   "metadata": {},
   "outputs": [],
   "source": [
    "class MLP:\n",
    "    def __init__(self, in_features, mid_features, out_features):\n",
    "        self.f1 = Linear(in_features, mid_features)\n",
    "        self.phi = Sigmoid()\n",
    "        self.f2 = Linear(mid_features, out_features)\n",
    "        \n",
    "    def __call__(self, X):\n",
    "        return self.f2(self.phi(self.f1(X)))\n",
    "        \n",
    "    def forward(self, X):\n",
    "        Z1 = self.f1(X)\n",
    "        Z2 = self.phi(Z1)\n",
    "        Z3 = self.f2(Z2)\n",
    "        return [X, Z1, Z2, Z3]\n",
    "    \n",
    "    def grad(self, Y, Z):\n",
    "        Z0, Z1, Z2, Z3 = Z[0], Z[1], Z[2], Z[3]\n",
    "\n",
    "        dLdZ3 = Z3 - Y\n",
    "\n",
    "        dLdW2 = dLdZ3.T @ Z2\n",
    "        dLdb2 = np.sum(dLdZ3, axis=0)\n",
    "        dLdZ2 = dLdZ3 * model.f2.W\n",
    "\n",
    "        expZ1 = np.exp(Z1)\n",
    "        dLdZ1 = dLdZ2 * (expZ1/(np.exp(2*Z1)+2*expZ1+1))\n",
    "\n",
    "        dLdW1 = dLdZ1.T @ Z0\n",
    "        dLdb1 = np.sum(dLdZ1, axis=0)\n",
    "\n",
    "        return dLdW1, dLdb1, dLdW2, dLdb2"
   ]
  },
  {
   "cell_type": "code",
   "execution_count": 8,
   "metadata": {},
   "outputs": [],
   "source": [
    "def loss(Y_real, Y_pred):\n",
    "    return 0.5 * np.sum((Y_real - Y_pred)**2)"
   ]
  },
  {
   "cell_type": "code",
   "execution_count": 9,
   "metadata": {},
   "outputs": [],
   "source": [
    "class GradientDescent:\n",
    "    def __init__(self, step=1e-3):\n",
    "        self.step = step\n",
    "        \n",
    "    def update(self, model:MLP, dLdW1, dLdb1, dLdW2, dLdb2):\n",
    "        \"\"\"利用梯度dW来更新f的权重\"\"\"\n",
    "        model.f2.W -= self.step * dLdW2\n",
    "        model.f2.b -= self.step * dLdb2\n",
    "        \n",
    "        model.f1.W -= self.step * dLdW1\n",
    "        model.f1.b -= self.step * dLdb1"
   ]
  },
  {
   "cell_type": "code",
   "execution_count": 10,
   "metadata": {},
   "outputs": [
    {
     "name": "stdout",
     "output_type": "stream",
     "text": [
      "Iter 0: loss 66.5749, valid loss 16.1994\n",
      "Iter 100: loss 8.1549, valid loss 2.4194\n",
      "Iter 200: loss 8.0909, valid loss 2.3984\n",
      "Iter 300: loss 8.0753, valid loss 2.3944\n",
      "Iter 400: loss 8.0599, valid loss 2.3906\n",
      "Iter 500: loss 8.0444, valid loss 2.3868\n",
      "Iter 600: loss 8.0289, valid loss 2.3830\n",
      "Iter 700: loss 8.0135, valid loss 2.3792\n",
      "Iter 800: loss 7.9980, valid loss 2.3754\n",
      "Iter 900: loss 7.9824, valid loss 2.3716\n",
      "CPU times: user 1min, sys: 1min 27s, total: 2min 27s\n",
      "Wall time: 3.18 s\n"
     ]
    }
   ],
   "source": [
    "%%time\n",
    "num_features = X_train.shape[-1]\n",
    "model = MLP(num_features, 30, 1)\n",
    "opt = GradientDescent(1e-5)\n",
    "\n",
    "valid_losses = []\n",
    "train_losses = []\n",
    "for i in range(1000):\n",
    "    X, Y = X_train, Y_train\n",
    "    \n",
    "    Z = model.forward(X)\n",
    "    grads = model.grad(Y, Z)\n",
    "    opt.update(model, *grads)\n",
    "    \n",
    "    Y_out = Z[-1]\n",
    "    cur_valid_loss = loss(Y_valid, model(X_valid))\n",
    "    cur_train_loss = loss(Y, Y_out)\n",
    "    valid_losses.append(cur_valid_loss) \n",
    "    train_losses.append(cur_train_loss)\n",
    "    \n",
    "    if i%100 == 0:\n",
    "        print(f\"Iter {i}: loss {cur_train_loss:.4f}, valid loss {cur_valid_loss:.4f}\")"
   ]
  },
  {
   "cell_type": "code",
   "execution_count": 11,
   "metadata": {},
   "outputs": [
    {
     "data": {
      "text/plain": [
       "<matplotlib.legend.Legend at 0x7fe36c159668>"
      ]
     },
     "execution_count": 11,
     "metadata": {},
     "output_type": "execute_result"
    },
    {
     "data": {
      "image/png": "[encoded data removed]",
      "text/plain": [
       "<Figure size 432x288 with 1 Axes>"
      ]
     },
     "metadata": {
      "needs_background": "light"
     },
     "output_type": "display_data"
    }
   ],
   "source": [
    "plt.plot(train_losses)\n",
    "plt.plot(valid_losses)\n",
    "plt.legend([\"train loss\", \"validation loss\"])"
   ]
  },
  {
   "cell_type": "code",
   "execution_count": null,
   "metadata": {},
   "outputs": [],
   "source": []
  }
 ],
 "metadata": {
  "kernelspec": {
   "display_name": "AI-Course",
   "language": "python",
   "name": "ai-course"
  },
  "language_info": {
   "codemirror_mode": {
    "name": "ipython",
    "version": 3
   },
   "file_extension": ".py",
   "mimetype": "text/x-python",
   "name": "python",
   "nbconvert_exporter": "python",
   "pygments_lexer": "ipython3",
   "version": "3.7.3"
  }
 },
 "nbformat": 4,
 "nbformat_minor": 4
}
