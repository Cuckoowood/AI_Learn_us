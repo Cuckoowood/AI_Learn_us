{
 "cells": [
  {
   "cell_type": "markdown",
   "metadata": {},
   "source": [
    "# 作业三\n",
    "\n",
    "## 一、Python类"
   ]
  },
  {
   "cell_type": "code",
   "execution_count": 1,
   "metadata": {},
   "outputs": [],
   "source": [
    "import numpy as np\n",
    "import matplotlib.pyplot as plt"
   ]
  },
  {
   "cell_type": "code",
   "execution_count": 2,
   "metadata": {},
   "outputs": [],
   "source": [
    "class DummyData:\n",
    "    def __init__(self, num=200):\n",
    "        self.num = num\n",
    "        \n",
    "    def load_data(self, train=True):\n",
    "        W = [0.3, 2, 1]\n",
    "        if train:\n",
    "            X = np.linspace(-2, 2, num=self.num)\n",
    "            Y = W[0]*X**2 + W[1]*X + W[2] + 0.4*np.random.randn(X.size)\n",
    "        else:\n",
    "            X = np.linspace(-10, 10, num=self.num)\n",
    "            Y = W[0]*X**2 + W[1]*X + W[2] + 5*np.random.randn(X.size)\n",
    "        return X, Y"
   ]
  },
  {
   "cell_type": "code",
   "execution_count": 3,
   "metadata": {},
   "outputs": [],
   "source": [
    "X_train, Y_train = DummyData(500).load_data()\n",
    "X_valid, Y_valid = DummyData(200).load_data(train=False)"
   ]
  },
  {
   "cell_type": "code",
   "execution_count": 4,
   "metadata": {},
   "outputs": [
    {
     "data": {
      "text/plain": [
       "<matplotlib.legend.Legend at 0x7fbc4ea39400>"
      ]
     },
     "execution_count": 4,
     "metadata": {},
     "output_type": "execute_result"
    },
    {
     "data": {
      "image/png": "[encoded data removed]",
      "text/plain": [
       "<Figure size 432x288 with 1 Axes>"
      ]
     },
     "metadata": {
      "needs_background": "light"
     },
     "output_type": "display_data"
    }
   ],
   "source": [
    "plt.scatter(X_train, Y_train)\n",
    "plt.scatter(X_valid, Y_valid)\n",
    "plt.legend([\"Training data\", \"Validation data\"])"
   ]
  },
  {
   "cell_type": "markdown",
   "metadata": {},
   "source": [
    "# 拟合上述曲线\n",
    "\n",
    "要求：\n",
    "\n",
    "* 函数$ f(x) = w_0x^2 + w_1x + w_2 $\n",
    "* 误差采用均方误差 $L := \\frac{\\sum_{i=1}^{n}(f(X_i) - Y_i)^2}{n}$\n",
    "* 固定步长的梯度下降法\n",
    "* 在尽可能不修改代码结构的前提下完成工作\n",
    "* 利用`X_train, Y_train`拟合，利用`X_valid, Y_valid`来验证拟合的效果"
   ]
  },
  {
   "cell_type": "markdown",
   "metadata": {},
   "source": [
    "## 定义模型、优化器及误差"
   ]
  },
  {
   "cell_type": "code",
   "execution_count": 5,
   "metadata": {},
   "outputs": [],
   "source": [
    "# 只需要修改这一部分 -- 代码量在20行以内\n",
    "class Parabola:\n",
    "    def __init__(self):\n",
    "        self.W = np.zeros(3)\n",
    "        \n",
    "    def __call__(self, X):\n",
    "        return self.predict(X)\n",
    "    \n",
    "    def predict(self, X):\n",
    "        \"\"\"计算f(X)，X为向量\"\"\"\n",
    "        assert len(X.shape)==1\n",
    "        # 实现它\n",
    "        raise(NotImplementedError())\n",
    "\n",
    "        \n",
    "class GradientDescent:\n",
    "    def __init__(self, step=1e-3):\n",
    "        self.step = step\n",
    "        \n",
    "    def update(self, f:Parabola, dW):\n",
    "        \"\"\"利用梯度dW来更新f的权重\"\"\"\n",
    "        # 实现它\n",
    "        raise(NotImplementedError())\n",
    "        \n",
    "\n",
    "def loss(predict, real):\n",
    "    \"\"\"计算预测值与真实值之间的误差 L\"\"\"\n",
    "    assert len(real.shape)==1\n",
    "    assert real.size == predict.size\n",
    "    # 实现它\n",
    "    raise(NotImplementedError())\n",
    "    \n",
    "    \n",
    "def grad(f, X, Y):\n",
    "    \"\"\"计算L在X处的关于参数W的导数, 其中Y=f(X)， X、Y均为向量\"\"\"\n",
    "    assert len(X.shape)==1\n",
    "    # 实现它\n",
    "    raise(NotImplementedError())"
   ]
  },
  {
   "cell_type": "markdown",
   "metadata": {},
   "source": [
    "## 拟合模型"
   ]
  },
  {
   "cell_type": "code",
   "execution_count": 6,
   "metadata": {},
   "outputs": [
    {
     "name": "stdout",
     "output_type": "stream",
     "text": [
      "Iter 0: train loss 3.5257341731728453, valid loss 365.37025960955447\n",
      "Iter 50: train loss 3.5257341731728453, valid loss 219.89880296076953\n",
      "Iter 100: train loss 3.5257341731728453, valid loss 151.61389222814907\n",
      "Iter 150: train loss 3.5257341731728453, valid loss 126.87490123163272\n",
      "Iter 200: train loss 3.5257341731728453, valid loss 125.62486008282609\n",
      "Iter 250: train loss 3.5257341731728453, valid loss 136.09901414478577\n",
      "Iter 300: train loss 3.5257341731728453, valid loss 151.55716306242542\n",
      "Iter 350: train loss 3.5257341731728453, valid loss 168.27328247187322\n",
      "Iter 400: train loss 3.5257341731728453, valid loss 184.30469988273796\n",
      "Iter 450: train loss 3.5257341731728453, valid loss 198.74339251916714\n",
      "Iter 500: train loss 3.5257341731728453, valid loss 211.26447909035429\n",
      "Iter 550: train loss 3.5257341731728453, valid loss 221.8571273503185\n",
      "Iter 600: train loss 3.5257341731728453, valid loss 230.6667984899287\n",
      "Iter 650: train loss 3.5257341731728453, valid loss 237.90493845736563\n",
      "Iter 700: train loss 3.5257341731728453, valid loss 243.79911681237184\n",
      "Iter 750: train loss 3.5257341731728453, valid loss 248.5670857085322\n",
      "Iter 800: train loss 3.5257341731728453, valid loss 252.40470757057128\n",
      "Iter 850: train loss 3.5257341731728453, valid loss 255.4816915957118\n",
      "Iter 900: train loss 3.5257341731728453, valid loss 257.9415288709056\n",
      "Iter 950: train loss 3.5257341731728453, valid loss 259.90351077205634\n"
     ]
    }
   ],
   "source": [
    "f = Parabola()\n",
    "opt = GradientDescent(1e-3)\n",
    "\n",
    "valid_losses = []\n",
    "train_losses = []\n",
    "for i in range(1000):\n",
    "    X, Y = X_train, Y_train\n",
    "    \n",
    "    Y_out = f(X)\n",
    "    dW = grad(f, X, Y)\n",
    "    opt.update(f, dW)\n",
    "    \n",
    "    cur_valid_loss = loss(Y_valid, f(X_valid))\n",
    "    cur_train_loss = loss(X, Y)\n",
    "    valid_losses.append(cur_valid_loss) \n",
    "    train_losses.append(cur_train_loss)\n",
    "    \n",
    "    if i%50 == 0:\n",
    "        print(f\"Iter {i}: train loss {cur_train_loss}, valid loss {cur_valid_loss}\")"
   ]
  },
  {
   "cell_type": "markdown",
   "metadata": {},
   "source": [
    "## 显示结果\n",
    "\n",
    "结果不好是正常的"
   ]
  },
  {
   "cell_type": "code",
   "execution_count": 7,
   "metadata": {},
   "outputs": [
    {
     "data": {
      "text/plain": [
       "<matplotlib.legend.Legend at 0x7fbc4e9a0a20>"
      ]
     },
     "execution_count": 7,
     "metadata": {},
     "output_type": "execute_result"
    },
    {
     "data": {
      "image/png": "[encoded data removed]",
      "text/plain": [
       "<Figure size 432x288 with 1 Axes>"
      ]
     },
     "metadata": {
      "needs_background": "light"
     },
     "output_type": "display_data"
    }
   ],
   "source": [
    "plt.plot(train_losses)\n",
    "plt.plot(valid_losses)\n",
    "plt.legend([\"train loss\", \"validation loss\"])"
   ]
  },
  {
   "cell_type": "code",
   "execution_count": 8,
   "metadata": {},
   "outputs": [
    {
     "data": {
      "text/plain": [
       "<matplotlib.legend.Legend at 0x7fbc4e47d5f8>"
      ]
     },
     "execution_count": 8,
     "metadata": {},
     "output_type": "execute_result"
    },
    {
     "data": {
      "image/png": "[encoded data removed]",
      "text/plain": [
       "<Figure size 432x288 with 1 Axes>"
      ]
     },
     "metadata": {
      "needs_background": "light"
     },
     "output_type": "display_data"
    }
   ],
   "source": [
    "plt.scatter(X_valid, f(X_valid))\n",
    "plt.scatter(X_valid, Y_valid)\n",
    "plt.legend([\"prediction\", \"ground truth\"])"
   ]
  }
 ],
 "metadata": {
  "kernelspec": {
   "display_name": "AI-Course",
   "language": "python",
   "name": "ai-course"
  },
  "language_info": {
   "codemirror_mode": {
    "name": "ipython",
    "version": 3
   },
   "file_extension": ".py",
   "mimetype": "text/x-python",
   "name": "python",
   "nbconvert_exporter": "python",
   "pygments_lexer": "ipython3",
   "version": "3.7.3"
  }
 },
 "nbformat": 4,
 "nbformat_minor": 4
}
