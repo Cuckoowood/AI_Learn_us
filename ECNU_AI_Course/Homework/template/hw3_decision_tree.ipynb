{
 "cells": [
  {
   "cell_type": "code",
   "execution_count": 1,
   "metadata": {},
   "outputs": [],
   "source": [
    "from sklearn import datasets\n",
    "import networkx as nx\n",
    "import matplotlib.pyplot as plt\n",
    "import numpy as np\n",
    "import math"
   ]
  },
  {
   "cell_type": "code",
   "execution_count": 2,
   "metadata": {},
   "outputs": [],
   "source": [
    "def load_iris(ratio=0.8, binarization=True):\n",
    "    features, target = datasets.load_iris(True)\n",
    "    \n",
    "    if binarization:\n",
    "        # 将连续特征离散化 -- 根据每个特征的均值作一个简单的二分类\n",
    "        num_feature = features.shape[-1]\n",
    "        feature_mean = np.mean(features, axis=0)\n",
    "        for i in range(num_feature):\n",
    "            features[:, i] = features[:, i] <= feature_mean[i]\n",
    "    \n",
    "    num_samples = len(target)\n",
    "    num_train = math.ceil(num_samples * ratio)\n",
    "    \n",
    "    # 随机打乱数据\n",
    "    idx = np.random.permutation(np.arange(num_samples))\n",
    "    traindata = features[idx[:num_train]], target[idx[:num_train]]\n",
    "    validdata = features[idx[num_train:]], target[idx[num_train:]]\n",
    "    \n",
    "    return traindata, validdata"
   ]
  },
  {
   "cell_type": "markdown",
   "metadata": {},
   "source": [
    "# 作业三\n",
    "\n",
    "## 三、决策树分类器\n",
    "\n",
    "使用C4.5算法和信息增益比来构造决策树\n",
    "\n",
    "前置需求：需要掌握递归的概念\n",
    "\n",
    "请按顺序实现以下几个功能：\n",
    "\n",
    "1. 仿造信息增益的代码，实现信息增益比(IGR) -- 2分 (ETA: ~2小时)\n",
    "2. 从相对的特征下标还原出绝对下标 -- 1分 (ETA: ~1小时)\n",
    "3. 补充完整树的递归构造部分 -- 2分 (ETA: 3~5小时)\n",
    "4. 实现剪枝部分的代码 -- 4分 (ETA: unknown)\n",
    "\n",
    "ETA：>10 hours"
   ]
  },
  {
   "cell_type": "markdown",
   "metadata": {},
   "source": [
    "读取数据"
   ]
  },
  {
   "cell_type": "code",
   "execution_count": 3,
   "metadata": {},
   "outputs": [],
   "source": [
    "(X_train, Y_train), (X_valid, Y_valid) = load_iris()"
   ]
  },
  {
   "cell_type": "markdown",
   "metadata": {},
   "source": [
    "### 一、定义信息增益(IG)与信息增益比(IGR)"
   ]
  },
  {
   "cell_type": "code",
   "execution_count": 4,
   "metadata": {},
   "outputs": [],
   "source": [
    "# 不需要修改\n",
    "def IG(features, targets, index=None):\n",
    "    \"\"\"\n",
    "    计算信息增益 (information gain) -- equation (5.9)\n",
    "    \n",
    "    Inputs:\n",
    "      index: None or int\n",
    "        关于features[idx]的信息增益比；若idx为None则计算关于所有特征的信息增益比\n",
    "      features: array of shape (N, C) or (C, )\n",
    "        输入特征\n",
    "      targets : array of shape (N, )\n",
    "        类别\n",
    "    \n",
    "    Outputs:\n",
    "      gains: array of shape (N, C) or number\n",
    "    \"\"\"\n",
    "    \n",
    "    def H(targets):\n",
    "        \"\"\"estimate entropy -- equation (5.7)\"\"\"\n",
    "        target_labels = np.unique(targets)\n",
    "        K = len(target_labels)\n",
    "        num_D = len(targets) # |D|\n",
    "        num_Ck = np.array([np.sum(targets == ck) for ck in target_labels])\n",
    "        \n",
    "        return -np.sum(num_Ck/num_D * np.log2(num_Ck/num_D))\n",
    "    \n",
    "    \n",
    "    def H_cond(feature, targets):\n",
    "        \"\"\"estimate entropy conditional on feature -- equation (5.8)\"\"\"\n",
    "        # equation (5.8)\n",
    "        feature_labels = np.unique(feature)\n",
    "        num_Di = np.array([np.sum(feature == di) for di in feature_labels])\n",
    "        num_D = np.sum(num_Di)\n",
    "        \n",
    "        H_Di = np.array([H(targets[feature == di]) for di in feature_labels])\n",
    "        return np.sum(num_Di/num_D * H_Di)\n",
    "    \n",
    "    \n",
    "    assert features.shape[0] == targets.shape[0]\n",
    "    \n",
    "    # if no idx is provided, calcuate IG with regard to all features\n",
    "    if index is None:\n",
    "        num_features = features.shape[-1]\n",
    "        return np.array([IG(X_train, Y_train, idx) for idx in range(num_features)])\n",
    "    \n",
    "    # equation (5.9)\n",
    "    feature = features[:, index]\n",
    "    return H(targets) - H_cond(feature, targets)"
   ]
  },
  {
   "cell_type": "markdown",
   "metadata": {},
   "source": [
    "测试IG是否正常工作"
   ]
  },
  {
   "cell_type": "code",
   "execution_count": 5,
   "metadata": {},
   "outputs": [
    {
     "data": {
      "text/plain": [
       "array([0.48732446, 0.23328937, 0.7896989 , 0.75985393])"
      ]
     },
     "execution_count": 5,
     "metadata": {},
     "output_type": "execute_result"
    }
   ],
   "source": [
    "IG(X_train, Y_train)"
   ]
  },
  {
   "cell_type": "code",
   "execution_count": 6,
   "metadata": {},
   "outputs": [
    {
     "data": {
      "text/plain": [
       "0.48732446329948775"
      ]
     },
     "execution_count": 6,
     "metadata": {},
     "output_type": "execute_result"
    }
   ],
   "source": [
    "IG(X_train, Y_train, index=0)"
   ]
  },
  {
   "cell_type": "code",
   "execution_count": 7,
   "metadata": {},
   "outputs": [],
   "source": [
    "def IGR(features, targets, index=None):\n",
    "    \"\"\"\n",
    "    计算信息增益比 (information gain ratio) -- equation (5.10)\n",
    "    \n",
    "    Inputs:\n",
    "      index : None or int\n",
    "        关于features[idx]的信息增益比；若idx为None则计算关于所有特征的信息增益比\n",
    "      features : array of shape (N, C) or (C, )\n",
    "        输入特征\n",
    "      targets : array of shape (N, )\n",
    "        类别\n",
    "    \n",
    "    Outputs:\n",
    "      gains: array of shape (N, C) or number\n",
    "    \"\"\"\n",
    "    \n",
    "    # 实现它\n",
    "    # 大约30行代码\n",
    "    raise(NotImplementedError())\n",
    "    return None"
   ]
  },
  {
   "cell_type": "markdown",
   "metadata": {},
   "source": [
    "测试IGR是否正常工作"
   ]
  },
  {
   "cell_type": "code",
   "execution_count": 8,
   "metadata": {},
   "outputs": [
    {
     "data": {
      "text/plain": [
       "array([0.6006873 ,       -inf, 0.97340096,       -inf])"
      ]
     },
     "execution_count": 8,
     "metadata": {},
     "output_type": "execute_result"
    }
   ],
   "source": [
    "IGR(X_train, Y_train)"
   ]
  },
  {
   "cell_type": "code",
   "execution_count": 9,
   "metadata": {},
   "outputs": [
    {
     "data": {
      "text/plain": [
       "0.6006872965105275"
      ]
     },
     "execution_count": 9,
     "metadata": {},
     "output_type": "execute_result"
    }
   ],
   "source": [
    "IGR(X_train, Y_train, index=0)"
   ]
  },
  {
   "cell_type": "markdown",
   "metadata": {},
   "source": [
    "### 二、决策树的构造"
   ]
  },
  {
   "cell_type": "markdown",
   "metadata": {},
   "source": [
    "#### 计算当前训练集中实例数最大的类"
   ]
  },
  {
   "cell_type": "code",
   "execution_count": 10,
   "metadata": {},
   "outputs": [],
   "source": [
    "# 不需要修改\n",
    "def find_largest_class(targets):\n",
    "    target_labels = np.unique(targets)\n",
    "    idx = [targets==ai for ai in target_labels]\n",
    "    Ck_i = [np.sum(i) for i in idx]\n",
    "    label_idx = np.argmax(Ck_i)\n",
    "    label = target_labels[label_idx]\n",
    "    return label"
   ]
  },
  {
   "cell_type": "code",
   "execution_count": 11,
   "metadata": {},
   "outputs": [
    {
     "data": {
      "text/plain": [
       "0"
      ]
     },
     "execution_count": 11,
     "metadata": {},
     "output_type": "execute_result"
    }
   ],
   "source": [
    "find_largest_class(Y_train)"
   ]
  },
  {
   "cell_type": "markdown",
   "metadata": {},
   "source": [
    "#### 从相对的特征下标还原出绝对下标"
   ]
  },
  {
   "cell_type": "markdown",
   "metadata": {},
   "source": [
    "因为在递归构造决策树的时候涉及到特征集的划分，因此要解决的一个问题是：\n",
    "\n",
    "假设原先为4维数组，依次删除它的第`3, 2, 1`维，则最后剩下的第`0, 1`维分别是原先数组中的第几维？(0, 4)\n",
    "\n",
    "* ori: [a0, a1, a2, a3, a4]\n",
    "* 3  : [a0, a1, a2, a4]\n",
    "* 2  : [a0, a1, a4]\n",
    "* 1  : [a0, a4]\n",
    "\n",
    "依次删除它的第`1, 2, 2`维， 那么剩下的第`0`维是原先数组中的第几维？ (0, 2)\n",
    "\n",
    "* ori: [a0, a1, a2, a3, a4]\n",
    "* 1  : [a0, a2, a3, a4]\n",
    "* 2  : [a0, a2, a4]\n",
    "* 2  : [a0, a2]\n",
    "\n",
    "如果是`0, 0, 0`维，那么剩下的第`0`维是原先数组的第几维？(3, 4)\n",
    "\n",
    "* ori: [a0, a1, a2, a3, a4]\n",
    "* 3  : [a1, a2, a3, a4]\n",
    "* 2  : [a2, a3, a4]\n",
    "* 1  : [a3, a4]\n"
   ]
  },
  {
   "cell_type": "code",
   "execution_count": 12,
   "metadata": {},
   "outputs": [],
   "source": [
    "def absolute_index(relative_idx, removed_indices=None):\n",
    "    # 实现它\n",
    "    # 大约10行代码\n",
    "    raise(NotImplementedError())\n",
    "    return None"
   ]
  },
  {
   "cell_type": "code",
   "execution_count": 13,
   "metadata": {},
   "outputs": [
    {
     "name": "stdout",
     "output_type": "stream",
     "text": [
      "0\n",
      "4\n",
      "0\n",
      "2\n",
      "3\n",
      "4\n"
     ]
    }
   ],
   "source": [
    "print(absolute_index(0, [3, 2, 1]))\n",
    "print(absolute_index(1, [3, 2, 1]))\n",
    "print(absolute_index(0, [1, 2, 2]))\n",
    "print(absolute_index(1, [1, 2, 2]))\n",
    "print(absolute_index(0, [0, 0, 0]))\n",
    "print(absolute_index(1, [0, 0, 0]))"
   ]
  },
  {
   "cell_type": "code",
   "execution_count": 19,
   "metadata": {},
   "outputs": [],
   "source": [
    "class DecisionTree:\n",
    "    \"\"\"\n",
    "    Attributes:\n",
    "      label : int or None\n",
    "        当前节点对应的分类标签; 只有叶节点才具有标签\n",
    "      children : array of DecisionTree\n",
    "        子树；若为空，则代表当前节点为叶节点，不再向下细分\n",
    "      decision_rule : function\n",
    "        从当前节点向下细分时调用的决策函数\n",
    "      feature_idx : int\n",
    "        当前节点作分类时所判断的特征下标 -- 绘图用\n",
    "      feature_value : array of number\n",
    "        当前节点作分类时所判断的特征的对应值 -- 绘图用\n",
    "    \"\"\"\n",
    "    def __init__(self, eps = 0.1, gain_method = IG):\n",
    "        \"\"\"\n",
    "        Inputs:\n",
    "          eps : number\n",
    "            Alg. 5.2 与 5.3中第四步的阈值，用来避免构造“过细”的节点（默认为0.1）\n",
    "          gain_method : function\n",
    "            增益计算函数，默认为 IG (信息增益)\n",
    "        \"\"\"\n",
    "        self.gain_method = gain_method\n",
    "        self.eps = eps # Alg. 5.1 与 Alg. 5.3 中的阈值\n",
    "        \n",
    "        self.label = None\n",
    "        self.feature_value = None\n",
    "        self.feature_idx = None\n",
    "        self.decision_rule = None\n",
    "        self.children = [] # 子树\n",
    "        \n",
    "        \n",
    "    def __call__(self, features):\n",
    "        return self.predict(features)\n",
    "    \n",
    "    def __str__(self):\n",
    "        return str(self.label) # required by networkX\n",
    "    \n",
    "    def fit(self, features, targets):\n",
    "        self._generate_tree(features, targets)\n",
    "        self._prune_tree(features, targets)\n",
    "        \n",
    "        \n",
    "    def _generate_tree(self, features, targets, removed_indices=None):\n",
    "        # 以算法5.2及5.3中描述的过程构造决策树\n",
    "        # 该算法为递归结构：\n",
    "        # 第 (1)-(3) 步为递归的终止条件\n",
    "        # 第 (4)-(5) 构造当前分支的结构\n",
    "        # 第 (6) 通过递归调用来实现完整的树的构造\n",
    "        \n",
    "        # 在递归过程中特征集会被不断压缩与裁剪，因此当前分支构造时的特征下标并等于训练集中的下标\n",
    "        # 因此这里需要记录之前的特征下标，从而还原出当前特征在原训练集中的位置\n",
    "        if removed_indices is None:\n",
    "            removed_indices = []\n",
    "        \n",
    "        ### 终止条件\n",
    "        # step (1) -- early stop if all targets are of the same class\n",
    "        target_labels = np.unique(targets)\n",
    "        if target_labels.size == 1:\n",
    "            self.label = target_labels[0]\n",
    "            return None\n",
    "        \n",
    "        # step (2) -- early stop if it's an empty feature set\n",
    "        if features.size == 0:\n",
    "            self.label = find_largest_class(targets)\n",
    "            return None\n",
    "        \n",
    "        # step (3) -- find the most significant feature\n",
    "        gains = self.gain_method(features, targets)\n",
    "        feature_idx = np.argmax(gains)\n",
    "        \n",
    "        # step (4) -- early stop if all features are insignificant\n",
    "        if gains[feature_idx] < self.eps:\n",
    "            self.label = find_largest_class(targets)\n",
    "            return None\n",
    "        \n",
    "        ### 递归过程\n",
    "        cur_feature = features[:, feature_idx]\n",
    "        cur_feature_labels = np.unique(cur_feature)\n",
    "        \n",
    "        # 1. generate a decision rule for current node\n",
    "        \n",
    "        if self.label is None:\n",
    "            # self.label is assigned by its parent node -- root node has no parent node\n",
    "            # so we manually generate one label for it\n",
    "            self.label = find_largest_class(targets)\n",
    "        self.feature_value = cur_feature_labels\n",
    "        self.feature_idx = absolute_index(feature_idx, removed_indices)\n",
    "        self.decision_rule = lambda x: x[feature_idx] == cur_feature_labels # onehot encoding\n",
    "        removed_indices.append(feature_idx)\n",
    "        \n",
    "        # recusively label all children nodes\n",
    "        self.children = [DecisionTree(self.eps, self.gain_method) for _ in cur_feature_labels]\n",
    "        # 实现它\n",
    "        # 大约10行代码\n",
    "        raise(NotImplementedError())\n",
    "            \n",
    "    \n",
    "    def _prune_tree(self, features, targets):\n",
    "        # 实现它\n",
    "        pass\n",
    "    \n",
    "    \n",
    "    def predict(self, features):\n",
    "        # 预测单个数据\n",
    "        if len(features.shape) == 1:\n",
    "            return np.array([self._predict_single(features)])\n",
    "        # 批量预测\n",
    "        elif len(features.shape) == 2:\n",
    "            N = features.shape[0]\n",
    "            out = np.zeros((N, ))\n",
    "            for i in range(N):\n",
    "                out[i] = self._predict_single(features[i, :])\n",
    "            return out\n",
    "        else:\n",
    "            raise(ValueError(\"Unsupported features size, should be 1 or 2 dimensional\"))\n",
    "    \n",
    "    \n",
    "    def _predict_single(self, feature):\n",
    "        if len(self.children) == 0:\n",
    "            return self.label\n",
    "        else:\n",
    "            child_idx = np.argmax(self.decision_rule(feature))\n",
    "            child = self.children[child_idx]\n",
    "            return child._predict_single(feature)\n",
    "            "
   ]
  },
  {
   "cell_type": "markdown",
   "metadata": {},
   "source": [
    "### 三、决策树的绘制"
   ]
  },
  {
   "cell_type": "code",
   "execution_count": 15,
   "metadata": {},
   "outputs": [],
   "source": [
    "# 不需要修改\n",
    "def plot_tree(tree: DecisionTree):\n",
    "    G = generate_graph(tree)\n",
    "    pos = generate_position(tree)\n",
    "    edge_labels = generate_labels(tree)\n",
    "    color = generate_color(tree, G)\n",
    "    \n",
    "    nx.draw(G, pos, with_labels=True,\n",
    "            node_size=200, linewidths=5,\n",
    "            node_color=color, vmax=np.max(color)*1.5, cmap=plt.cm.Blues)\n",
    "    \n",
    "    nx.draw_networkx_edge_labels(G, pos=pos, edge_labels = edge_labels)\n",
    "    \n",
    "    \n",
    "def generate_graph(tree):\n",
    "    \"\"\"从DecisionTree中生成一个有向图\"\"\"\n",
    "    \n",
    "    def _generate_graph(graph, tree):\n",
    "        for child in tree.children:\n",
    "            G.add_edge(tree, child, len=40)\n",
    "\n",
    "        for child in tree.children:\n",
    "            _generate_graph(graph, child)\n",
    "    \n",
    "    G = nx.DiGraph()\n",
    "    _generate_graph(G, tree)\n",
    "    return G\n",
    "\n",
    "\n",
    "def generate_labels(tree):\n",
    "    \"\"\"从DecisionTree中生成一个每条边的决策信息\"\"\"\n",
    "    def _generate_labels(labels, tree):\n",
    "        if len(tree.children) == 0:\n",
    "            return None\n",
    "\n",
    "        for (child, value) in zip(tree.children, tree.feature_value):\n",
    "            labels[(tree, child)] = f\"X[{tree.feature_idx}] == {value}\"\n",
    "\n",
    "        for child in tree.children:\n",
    "            _generate_labels(labels, child)\n",
    "            \n",
    "    labels = {}\n",
    "    _generate_labels(labels, tree)\n",
    "    return labels\n",
    "\n",
    "\n",
    "def generate_position(tree):\n",
    "    \"\"\"生成一个树状的位置信息\"\"\"\n",
    "    def _generate_position(pos, tree, level=1, max_level=20):\n",
    "\n",
    "        if tree not in pos:\n",
    "            pos[tree] = np.array([0, 0])\n",
    "\n",
    "        y_offset = -1\n",
    "        x_offsets = np.arange(len(tree.children))\n",
    "        x_offsets = x_offsets - np.mean(x_offsets)\n",
    "        for (child, x_offset) in zip(tree.children, x_offsets):\n",
    "            # offsets are scaled wrt current level to avoid overlap of nodes\n",
    "            pos[child] = pos[tree] + np.array([x_offset, y_offset]) * (max_level-level)/max_level\n",
    "\n",
    "        for child in tree.children:\n",
    "            _generate_position(pos, child, level+1)\n",
    "    \n",
    "    \n",
    "    pos = {}\n",
    "    _generate_position(pos, tree)\n",
    "    return pos\n",
    "\n",
    "\n",
    "def generate_color(tree, graph, max_level=20):\n",
    "    def _generate_color(color, tree, level=1):\n",
    "        if tree not in color:\n",
    "            color[tree] = level\n",
    "\n",
    "        for child in tree.children:\n",
    "            color[child] = level + 1\n",
    "            _generate_color(color, child, level+1)\n",
    "    \n",
    "    \n",
    "    color = {}\n",
    "    _generate_color(color, tree)\n",
    "    return np.array([color[x] for x in graph.nodes])"
   ]
  },
  {
   "cell_type": "markdown",
   "metadata": {},
   "source": [
    "### 四、测试算法"
   ]
  },
  {
   "cell_type": "code",
   "execution_count": 16,
   "metadata": {},
   "outputs": [],
   "source": [
    "def accuracy(model):\n",
    "    return np.sum(model.predict(X_valid) == Y_valid)/Y_valid.size"
   ]
  },
  {
   "cell_type": "markdown",
   "metadata": {},
   "source": [
    "对数据特征进行二分类"
   ]
  },
  {
   "cell_type": "code",
   "execution_count": 17,
   "metadata": {},
   "outputs": [
    {
     "name": "stdout",
     "output_type": "stream",
     "text": [
      "accuracy:0.8000\n"
     ]
    },
    {
     "name": "stderr",
     "output_type": "stream",
     "text": [
      "/opt/conda/envs/pt-stable/lib/python3.7/site-packages/numpy/core/fromnumeric.py:3257: RuntimeWarning: Mean of empty slice.\n",
      "  out=out, **kwargs)\n",
      "/opt/conda/envs/pt-stable/lib/python3.7/site-packages/numpy/core/_methods.py:161: RuntimeWarning: invalid value encountered in double_scalars\n",
      "  ret = ret.dtype.type(ret / rcount)\n",
      "/opt/conda/envs/pt-stable/lib/python3.7/site-packages/networkx/drawing/nx_pylab.py:579: MatplotlibDeprecationWarning: \n",
      "The iterable function was deprecated in Matplotlib 3.1 and will be removed in 3.3. Use np.iterable instead.\n",
      "  if not cb.iterable(width):\n",
      "/opt/conda/envs/pt-stable/lib/python3.7/site-packages/networkx/drawing/nx_pylab.py:676: MatplotlibDeprecationWarning: \n",
      "The iterable function was deprecated in Matplotlib 3.1 and will be removed in 3.3. Use np.iterable instead.\n",
      "  if cb.iterable(node_size):  # many node sizes\n"
     ]
    },
    {
     "data": {
      "image/png": "[encoded data removed]",
      "text/plain": [
       "<Figure size 1440x720 with 1 Axes>"
      ]
     },
     "metadata": {},
     "output_type": "display_data"
    }
   ],
   "source": [
    "(X_train, Y_train), (X_valid, Y_valid) = load_iris(binarization=True)\n",
    "\n",
    "model = DecisionTree(gain_method=IGR)\n",
    "model.fit(X_train, Y_train)\n",
    "\n",
    "print(f\"accuracy:{accuracy(model):.4f}\")\n",
    "\n",
    "fig = plt.gcf()\n",
    "fig.set_size_inches(20, 10)\n",
    "plot_tree(model)"
   ]
  },
  {
   "cell_type": "markdown",
   "metadata": {},
   "source": [
    "不对数据特征进行二分类"
   ]
  },
  {
   "cell_type": "code",
   "execution_count": 18,
   "metadata": {},
   "outputs": [
    {
     "name": "stdout",
     "output_type": "stream",
     "text": [
      "accuracy:0.8000\n"
     ]
    }
   ],
   "source": [
    "(X_train, Y_train), (X_valid, Y_valid) = load_iris(binarization=False)\n",
    "\n",
    "model = DecisionTree(gain_method=IGR)\n",
    "model.fit(X_train, Y_train)\n",
    "\n",
    "print(f\"accuracy:{accuracy(model):.4f}\")\n",
    "\n",
    "# fig = plt.gcf()\n",
    "# fig.set_size_inches(20, 10)\n",
    "# plot_tree(model)"
   ]
  },
  {
   "cell_type": "code",
   "execution_count": null,
   "metadata": {},
   "outputs": [],
   "source": []
  }
 ],
 "metadata": {
  "kernelspec": {
   "display_name": "AI-Course",
   "language": "python",
   "name": "ai-course"
  },
  "language_info": {
   "codemirror_mode": {
    "name": "ipython",
    "version": 3
   },
   "file_extension": ".py",
   "mimetype": "text/x-python",
   "name": "python",
   "nbconvert_exporter": "python",
   "pygments_lexer": "ipython3",
   "version": "3.7.3"
  }
 },
 "nbformat": 4,
 "nbformat_minor": 4
}
